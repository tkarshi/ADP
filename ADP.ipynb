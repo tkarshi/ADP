{
 "cells": [
  {
   "cell_type": "markdown",
   "id": "851f9815-7b45-4545-bd51-dc6e12b432fb",
   "metadata": {},
   "source": [
    "## Advanced Exploratory Data Analysis with Pandas library\n",
    "* Renaming\n",
    "* Getting data in and out\n",
    "* Descriptive statistics\n",
    "* Handling missing data\n",
    "* Reshaping and pivot table\n",
    "* Merge, concatenate and group by operations\n",
    "\n",
    "\n",
    "Imporing core libraries and use the previous employee recodrd frame dfemp_rec dataset for this example"
   ]
  },
  {
   "cell_type": "code",
   "execution_count": 2,
   "id": "607f4ea1-4ef0-4ee7-917e-677e04b32cab",
   "metadata": {},
   "outputs": [],
   "source": [
    "import numpy as np\n",
    "import pandas as pnd"
   ]
  },
  {
   "cell_type": "code",
   "execution_count": 3,
   "id": "d14807cc-7de2-42f1-8974-73e7d8a487d6",
   "metadata": {},
   "outputs": [],
   "source": [
    "dfemp_rec = pnd.DataFrame({'Employee_Name':['Sam', 'Max', 'Tony', 'Sarah', 'Tania', 'David', 'Mark',\n",
    "                                                    'Alice', 'Charles', 'Bob', 'Anaa'],\n",
    "                                   'Employee_Dep': ['Research', 'HR', 'Marketing', 'Sales', 'Finance',\n",
    "                                                   'IT', 'HR','Marketing', 'IT', 'Finance', 'Sales'],\n",
    "                                   'Employee_ID': [10001,10002,10003,10004,10005,10006,10007,10008,\n",
    "                                                  10009,10010,10011],\n",
    "                                   'Employee_Salary':[45034.88,65343.45,53423.27,76422.34,58753.00,34323.44,\n",
    "                                                      66544.60,34354.66,55234.96,39078.60,44567.88]\n",
    "                                  }\n",
    " )"
   ]
  },
  {
   "cell_type": "code",
   "execution_count": 4,
   "id": "22cdd989-f257-4ca3-9f3c-6996468a362f",
   "metadata": {},
   "outputs": [
    {
     "data": {
      "text/html": [
       "<div>\n",
       "<style scoped>\n",
       "    .dataframe tbody tr th:only-of-type {\n",
       "        vertical-align: middle;\n",
       "    }\n",
       "\n",
       "    .dataframe tbody tr th {\n",
       "        vertical-align: top;\n",
       "    }\n",
       "\n",
       "    .dataframe thead th {\n",
       "        text-align: right;\n",
       "    }\n",
       "</style>\n",
       "<table border=\"1\" class=\"dataframe\">\n",
       "  <thead>\n",
       "    <tr style=\"text-align: right;\">\n",
       "      <th></th>\n",
       "      <th>Employee_Name</th>\n",
       "      <th>Employee_Dep</th>\n",
       "      <th>Employee_ID</th>\n",
       "      <th>Employee_Salary</th>\n",
       "    </tr>\n",
       "  </thead>\n",
       "  <tbody>\n",
       "    <tr>\n",
       "      <th>0</th>\n",
       "      <td>Sam</td>\n",
       "      <td>Research</td>\n",
       "      <td>10001</td>\n",
       "      <td>45034.88</td>\n",
       "    </tr>\n",
       "    <tr>\n",
       "      <th>1</th>\n",
       "      <td>Max</td>\n",
       "      <td>HR</td>\n",
       "      <td>10002</td>\n",
       "      <td>65343.45</td>\n",
       "    </tr>\n",
       "    <tr>\n",
       "      <th>2</th>\n",
       "      <td>Tony</td>\n",
       "      <td>Marketing</td>\n",
       "      <td>10003</td>\n",
       "      <td>53423.27</td>\n",
       "    </tr>\n",
       "    <tr>\n",
       "      <th>3</th>\n",
       "      <td>Sarah</td>\n",
       "      <td>Sales</td>\n",
       "      <td>10004</td>\n",
       "      <td>76422.34</td>\n",
       "    </tr>\n",
       "    <tr>\n",
       "      <th>4</th>\n",
       "      <td>Tania</td>\n",
       "      <td>Finance</td>\n",
       "      <td>10005</td>\n",
       "      <td>58753.00</td>\n",
       "    </tr>\n",
       "    <tr>\n",
       "      <th>5</th>\n",
       "      <td>David</td>\n",
       "      <td>IT</td>\n",
       "      <td>10006</td>\n",
       "      <td>34323.44</td>\n",
       "    </tr>\n",
       "    <tr>\n",
       "      <th>6</th>\n",
       "      <td>Mark</td>\n",
       "      <td>HR</td>\n",
       "      <td>10007</td>\n",
       "      <td>66544.60</td>\n",
       "    </tr>\n",
       "    <tr>\n",
       "      <th>7</th>\n",
       "      <td>Alice</td>\n",
       "      <td>Marketing</td>\n",
       "      <td>10008</td>\n",
       "      <td>34354.66</td>\n",
       "    </tr>\n",
       "    <tr>\n",
       "      <th>8</th>\n",
       "      <td>Charles</td>\n",
       "      <td>IT</td>\n",
       "      <td>10009</td>\n",
       "      <td>55234.96</td>\n",
       "    </tr>\n",
       "    <tr>\n",
       "      <th>9</th>\n",
       "      <td>Bob</td>\n",
       "      <td>Finance</td>\n",
       "      <td>10010</td>\n",
       "      <td>39078.60</td>\n",
       "    </tr>\n",
       "    <tr>\n",
       "      <th>10</th>\n",
       "      <td>Anaa</td>\n",
       "      <td>Sales</td>\n",
       "      <td>10011</td>\n",
       "      <td>44567.88</td>\n",
       "    </tr>\n",
       "  </tbody>\n",
       "</table>\n",
       "</div>"
      ],
      "text/plain": [
       "   Employee_Name Employee_Dep  Employee_ID  Employee_Salary\n",
       "0            Sam     Research        10001         45034.88\n",
       "1            Max           HR        10002         65343.45\n",
       "2           Tony    Marketing        10003         53423.27\n",
       "3          Sarah        Sales        10004         76422.34\n",
       "4          Tania      Finance        10005         58753.00\n",
       "5          David           IT        10006         34323.44\n",
       "6           Mark           HR        10007         66544.60\n",
       "7          Alice    Marketing        10008         34354.66\n",
       "8        Charles           IT        10009         55234.96\n",
       "9            Bob      Finance        10010         39078.60\n",
       "10          Anaa        Sales        10011         44567.88"
      ]
     },
     "execution_count": 4,
     "metadata": {},
     "output_type": "execute_result"
    }
   ],
   "source": [
    "dfemp_rec"
   ]
  },
  {
   "cell_type": "code",
   "execution_count": 5,
   "id": "a0a37e5d-bd6f-41a0-b46b-095c2e06277c",
   "metadata": {},
   "outputs": [
    {
     "data": {
      "text/html": [
       "<div>\n",
       "<style scoped>\n",
       "    .dataframe tbody tr th:only-of-type {\n",
       "        vertical-align: middle;\n",
       "    }\n",
       "\n",
       "    .dataframe tbody tr th {\n",
       "        vertical-align: top;\n",
       "    }\n",
       "\n",
       "    .dataframe thead th {\n",
       "        text-align: right;\n",
       "    }\n",
       "</style>\n",
       "<table border=\"1\" class=\"dataframe\">\n",
       "  <thead>\n",
       "    <tr style=\"text-align: right;\">\n",
       "      <th></th>\n",
       "      <th>Employee_Name</th>\n",
       "      <th>Employee_Dep</th>\n",
       "      <th>Employee_ID</th>\n",
       "      <th>Employee_Salary</th>\n",
       "    </tr>\n",
       "  </thead>\n",
       "  <tbody>\n",
       "    <tr>\n",
       "      <th>0</th>\n",
       "      <td>Sam</td>\n",
       "      <td>Research</td>\n",
       "      <td>10001</td>\n",
       "      <td>45034.88</td>\n",
       "    </tr>\n",
       "    <tr>\n",
       "      <th>1</th>\n",
       "      <td>Max</td>\n",
       "      <td>HR</td>\n",
       "      <td>10002</td>\n",
       "      <td>65343.45</td>\n",
       "    </tr>\n",
       "    <tr>\n",
       "      <th>2</th>\n",
       "      <td>Tony</td>\n",
       "      <td>Marketing</td>\n",
       "      <td>10003</td>\n",
       "      <td>53423.27</td>\n",
       "    </tr>\n",
       "    <tr>\n",
       "      <th>3</th>\n",
       "      <td>Sarah</td>\n",
       "      <td>Sales</td>\n",
       "      <td>10004</td>\n",
       "      <td>76422.34</td>\n",
       "    </tr>\n",
       "    <tr>\n",
       "      <th>4</th>\n",
       "      <td>Tania</td>\n",
       "      <td>Finance</td>\n",
       "      <td>10005</td>\n",
       "      <td>58753.00</td>\n",
       "    </tr>\n",
       "    <tr>\n",
       "      <th>5</th>\n",
       "      <td>David</td>\n",
       "      <td>IT</td>\n",
       "      <td>10006</td>\n",
       "      <td>34323.44</td>\n",
       "    </tr>\n",
       "    <tr>\n",
       "      <th>6</th>\n",
       "      <td>Mark</td>\n",
       "      <td>HR</td>\n",
       "      <td>10007</td>\n",
       "      <td>66544.60</td>\n",
       "    </tr>\n",
       "    <tr>\n",
       "      <th>7</th>\n",
       "      <td>Alice</td>\n",
       "      <td>Marketing</td>\n",
       "      <td>10008</td>\n",
       "      <td>34354.66</td>\n",
       "    </tr>\n",
       "    <tr>\n",
       "      <th>8</th>\n",
       "      <td>Charles</td>\n",
       "      <td>IT</td>\n",
       "      <td>10009</td>\n",
       "      <td>55234.96</td>\n",
       "    </tr>\n",
       "    <tr>\n",
       "      <th>9</th>\n",
       "      <td>Bob</td>\n",
       "      <td>Finance</td>\n",
       "      <td>10010</td>\n",
       "      <td>39078.60</td>\n",
       "    </tr>\n",
       "    <tr>\n",
       "      <th>10</th>\n",
       "      <td>Anaa</td>\n",
       "      <td>Sales</td>\n",
       "      <td>10011</td>\n",
       "      <td>44567.88</td>\n",
       "    </tr>\n",
       "  </tbody>\n",
       "</table>\n",
       "</div>"
      ],
      "text/plain": [
       "   Employee_Name Employee_Dep  Employee_ID  Employee_Salary\n",
       "0            Sam     Research        10001         45034.88\n",
       "1            Max           HR        10002         65343.45\n",
       "2           Tony    Marketing        10003         53423.27\n",
       "3          Sarah        Sales        10004         76422.34\n",
       "4          Tania      Finance        10005         58753.00\n",
       "5          David           IT        10006         34323.44\n",
       "6           Mark           HR        10007         66544.60\n",
       "7          Alice    Marketing        10008         34354.66\n",
       "8        Charles           IT        10009         55234.96\n",
       "9            Bob      Finance        10010         39078.60\n",
       "10          Anaa        Sales        10011         44567.88"
      ]
     },
     "execution_count": 5,
     "metadata": {},
     "output_type": "execute_result"
    }
   ],
   "source": [
    "df = dfemp_rec.copy()\n",
    "#df=df.rename(str.lower,axis='columns')\n",
    "#df.rename(str.lower,axis='columns', inplace=True)\n",
    "df"
   ]
  },
  {
   "cell_type": "code",
   "execution_count": 6,
   "id": "cf176a48-a764-456d-9175-158bb0d88724",
   "metadata": {},
   "outputs": [
    {
     "data": {
      "text/html": [
       "<div>\n",
       "<style scoped>\n",
       "    .dataframe tbody tr th:only-of-type {\n",
       "        vertical-align: middle;\n",
       "    }\n",
       "\n",
       "    .dataframe tbody tr th {\n",
       "        vertical-align: top;\n",
       "    }\n",
       "\n",
       "    .dataframe thead th {\n",
       "        text-align: right;\n",
       "    }\n",
       "</style>\n",
       "<table border=\"1\" class=\"dataframe\">\n",
       "  <thead>\n",
       "    <tr style=\"text-align: right;\">\n",
       "      <th></th>\n",
       "      <th>employee_name</th>\n",
       "      <th>employee_dep</th>\n",
       "      <th>employee_id</th>\n",
       "      <th>salary</th>\n",
       "    </tr>\n",
       "  </thead>\n",
       "  <tbody>\n",
       "    <tr>\n",
       "      <th>0</th>\n",
       "      <td>Sam</td>\n",
       "      <td>Research</td>\n",
       "      <td>10001</td>\n",
       "      <td>45034.88</td>\n",
       "    </tr>\n",
       "    <tr>\n",
       "      <th>1</th>\n",
       "      <td>Max</td>\n",
       "      <td>HR</td>\n",
       "      <td>10002</td>\n",
       "      <td>65343.45</td>\n",
       "    </tr>\n",
       "    <tr>\n",
       "      <th>2</th>\n",
       "      <td>Tony</td>\n",
       "      <td>Marketing</td>\n",
       "      <td>10003</td>\n",
       "      <td>53423.27</td>\n",
       "    </tr>\n",
       "    <tr>\n",
       "      <th>3</th>\n",
       "      <td>Sarah</td>\n",
       "      <td>Sales</td>\n",
       "      <td>10004</td>\n",
       "      <td>76422.34</td>\n",
       "    </tr>\n",
       "    <tr>\n",
       "      <th>4</th>\n",
       "      <td>Tania</td>\n",
       "      <td>Finance</td>\n",
       "      <td>10005</td>\n",
       "      <td>58753.00</td>\n",
       "    </tr>\n",
       "    <tr>\n",
       "      <th>5</th>\n",
       "      <td>David</td>\n",
       "      <td>IT</td>\n",
       "      <td>10006</td>\n",
       "      <td>34323.44</td>\n",
       "    </tr>\n",
       "    <tr>\n",
       "      <th>6</th>\n",
       "      <td>Mark</td>\n",
       "      <td>HR</td>\n",
       "      <td>10007</td>\n",
       "      <td>66544.60</td>\n",
       "    </tr>\n",
       "    <tr>\n",
       "      <th>7</th>\n",
       "      <td>Alice</td>\n",
       "      <td>Marketing</td>\n",
       "      <td>10008</td>\n",
       "      <td>34354.66</td>\n",
       "    </tr>\n",
       "    <tr>\n",
       "      <th>8</th>\n",
       "      <td>Charles</td>\n",
       "      <td>IT</td>\n",
       "      <td>10009</td>\n",
       "      <td>55234.96</td>\n",
       "    </tr>\n",
       "    <tr>\n",
       "      <th>9</th>\n",
       "      <td>Bob</td>\n",
       "      <td>Finance</td>\n",
       "      <td>10010</td>\n",
       "      <td>39078.60</td>\n",
       "    </tr>\n",
       "    <tr>\n",
       "      <th>10</th>\n",
       "      <td>Anaa</td>\n",
       "      <td>Sales</td>\n",
       "      <td>10011</td>\n",
       "      <td>44567.88</td>\n",
       "    </tr>\n",
       "  </tbody>\n",
       "</table>\n",
       "</div>"
      ],
      "text/plain": [
       "   employee_name employee_dep  employee_id    salary\n",
       "0            Sam     Research        10001  45034.88\n",
       "1            Max           HR        10002  65343.45\n",
       "2           Tony    Marketing        10003  53423.27\n",
       "3          Sarah        Sales        10004  76422.34\n",
       "4          Tania      Finance        10005  58753.00\n",
       "5          David           IT        10006  34323.44\n",
       "6           Mark           HR        10007  66544.60\n",
       "7          Alice    Marketing        10008  34354.66\n",
       "8        Charles           IT        10009  55234.96\n",
       "9            Bob      Finance        10010  39078.60\n",
       "10          Anaa        Sales        10011  44567.88"
      ]
     },
     "execution_count": 6,
     "metadata": {},
     "output_type": "execute_result"
    }
   ],
   "source": [
    "df.rename(columns={\"Employee_Name\":\"employee_name\",\"Employee_Dep\":\"employee_dep\",\"Employee_ID\":\"employee_id\",\"Employee_Salary\":\"salary\"}, inplace=True)\n",
    "df"
   ]
  },
  {
   "cell_type": "code",
   "execution_count": 7,
   "id": "0094b7ba-3881-4858-ab77-0e6abdeb4d5c",
   "metadata": {},
   "outputs": [
    {
     "data": {
      "text/plain": [
       "(11, 4)"
      ]
     },
     "execution_count": 7,
     "metadata": {},
     "output_type": "execute_result"
    }
   ],
   "source": [
    "# Shape of the dataframe (rows,columns)\n",
    "df.shape\n"
   ]
  },
  {
   "cell_type": "code",
   "execution_count": 8,
   "id": "1d6a38c7-6afd-4881-a644-09855b5cdb4b",
   "metadata": {},
   "outputs": [
    {
     "data": {
      "text/plain": [
       "11"
      ]
     },
     "execution_count": 8,
     "metadata": {},
     "output_type": "execute_result"
    }
   ],
   "source": [
    "x1 = df.shape\n",
    "x1[0]"
   ]
  },
  {
   "cell_type": "code",
   "execution_count": 9,
   "id": "20625037-f28f-47d0-83a2-1b1e049d5a1e",
   "metadata": {},
   "outputs": [
    {
     "name": "stdout",
     "output_type": "stream",
     "text": [
      "<class 'pandas.core.frame.DataFrame'>\n",
      "RangeIndex: 11 entries, 0 to 10\n",
      "Data columns (total 4 columns):\n",
      " #   Column         Non-Null Count  Dtype  \n",
      "---  ------         --------------  -----  \n",
      " 0   employee_name  11 non-null     object \n",
      " 1   employee_dep   11 non-null     object \n",
      " 2   employee_id    11 non-null     int64  \n",
      " 3   salary         11 non-null     float64\n",
      "dtypes: float64(1), int64(1), object(2)\n",
      "memory usage: 484.0+ bytes\n"
     ]
    }
   ],
   "source": [
    "# Information about the dataframe\n",
    "df.info()"
   ]
  },
  {
   "cell_type": "code",
   "execution_count": 10,
   "id": "148c1640-ae6f-46d4-aabd-ce3de8818704",
   "metadata": {},
   "outputs": [
    {
     "data": {
      "text/html": [
       "<div>\n",
       "<style scoped>\n",
       "    .dataframe tbody tr th:only-of-type {\n",
       "        vertical-align: middle;\n",
       "    }\n",
       "\n",
       "    .dataframe tbody tr th {\n",
       "        vertical-align: top;\n",
       "    }\n",
       "\n",
       "    .dataframe thead th {\n",
       "        text-align: right;\n",
       "    }\n",
       "</style>\n",
       "<table border=\"1\" class=\"dataframe\">\n",
       "  <thead>\n",
       "    <tr style=\"text-align: right;\">\n",
       "      <th></th>\n",
       "      <th>employee_name</th>\n",
       "      <th>employee_dep</th>\n",
       "      <th>employee_id</th>\n",
       "      <th>salary</th>\n",
       "    </tr>\n",
       "  </thead>\n",
       "  <tbody>\n",
       "    <tr>\n",
       "      <th>0</th>\n",
       "      <td>8.0</td>\n",
       "      <td>9.0</td>\n",
       "      <td>1.0</td>\n",
       "      <td>5.0</td>\n",
       "    </tr>\n",
       "    <tr>\n",
       "      <th>1</th>\n",
       "      <td>7.0</td>\n",
       "      <td>3.5</td>\n",
       "      <td>2.0</td>\n",
       "      <td>9.0</td>\n",
       "    </tr>\n",
       "    <tr>\n",
       "      <th>2</th>\n",
       "      <td>11.0</td>\n",
       "      <td>7.5</td>\n",
       "      <td>3.0</td>\n",
       "      <td>6.0</td>\n",
       "    </tr>\n",
       "    <tr>\n",
       "      <th>3</th>\n",
       "      <td>9.0</td>\n",
       "      <td>10.5</td>\n",
       "      <td>4.0</td>\n",
       "      <td>11.0</td>\n",
       "    </tr>\n",
       "    <tr>\n",
       "      <th>4</th>\n",
       "      <td>10.0</td>\n",
       "      <td>1.5</td>\n",
       "      <td>5.0</td>\n",
       "      <td>8.0</td>\n",
       "    </tr>\n",
       "    <tr>\n",
       "      <th>5</th>\n",
       "      <td>5.0</td>\n",
       "      <td>5.5</td>\n",
       "      <td>6.0</td>\n",
       "      <td>1.0</td>\n",
       "    </tr>\n",
       "    <tr>\n",
       "      <th>6</th>\n",
       "      <td>6.0</td>\n",
       "      <td>3.5</td>\n",
       "      <td>7.0</td>\n",
       "      <td>10.0</td>\n",
       "    </tr>\n",
       "    <tr>\n",
       "      <th>7</th>\n",
       "      <td>1.0</td>\n",
       "      <td>7.5</td>\n",
       "      <td>8.0</td>\n",
       "      <td>2.0</td>\n",
       "    </tr>\n",
       "    <tr>\n",
       "      <th>8</th>\n",
       "      <td>4.0</td>\n",
       "      <td>5.5</td>\n",
       "      <td>9.0</td>\n",
       "      <td>7.0</td>\n",
       "    </tr>\n",
       "    <tr>\n",
       "      <th>9</th>\n",
       "      <td>3.0</td>\n",
       "      <td>1.5</td>\n",
       "      <td>10.0</td>\n",
       "      <td>3.0</td>\n",
       "    </tr>\n",
       "    <tr>\n",
       "      <th>10</th>\n",
       "      <td>2.0</td>\n",
       "      <td>10.5</td>\n",
       "      <td>11.0</td>\n",
       "      <td>4.0</td>\n",
       "    </tr>\n",
       "  </tbody>\n",
       "</table>\n",
       "</div>"
      ],
      "text/plain": [
       "    employee_name  employee_dep  employee_id  salary\n",
       "0             8.0           9.0          1.0     5.0\n",
       "1             7.0           3.5          2.0     9.0\n",
       "2            11.0           7.5          3.0     6.0\n",
       "3             9.0          10.5          4.0    11.0\n",
       "4            10.0           1.5          5.0     8.0\n",
       "5             5.0           5.5          6.0     1.0\n",
       "6             6.0           3.5          7.0    10.0\n",
       "7             1.0           7.5          8.0     2.0\n",
       "8             4.0           5.5          9.0     7.0\n",
       "9             3.0           1.5         10.0     3.0\n",
       "10            2.0          10.5         11.0     4.0"
      ]
     },
     "execution_count": 10,
     "metadata": {},
     "output_type": "execute_result"
    }
   ],
   "source": [
    "# Assing rank for each column values\n",
    "df.rank()"
   ]
  },
  {
   "cell_type": "code",
   "execution_count": 11,
   "id": "693fa83e-4a91-4674-8d69-5d4a065d0356",
   "metadata": {},
   "outputs": [],
   "source": [
    "## Rearrange the columns"
   ]
  },
  {
   "cell_type": "code",
   "execution_count": 12,
   "id": "b825aadf-3060-4b4c-943d-22713e24a643",
   "metadata": {},
   "outputs": [
    {
     "data": {
      "text/plain": [
       "['employee_name', 'employee_dep', 'employee_id', 'salary']"
      ]
     },
     "execution_count": 12,
     "metadata": {},
     "output_type": "execute_result"
    }
   ],
   "source": [
    "cols = df.columns.tolist() # Getting all the column names to a list\n",
    "cols"
   ]
  },
  {
   "cell_type": "code",
   "execution_count": 13,
   "id": "2a6fefc9-2ffe-4c39-b6d4-62cc4217118a",
   "metadata": {},
   "outputs": [
    {
     "data": {
      "text/html": [
       "<div>\n",
       "<style scoped>\n",
       "    .dataframe tbody tr th:only-of-type {\n",
       "        vertical-align: middle;\n",
       "    }\n",
       "\n",
       "    .dataframe tbody tr th {\n",
       "        vertical-align: top;\n",
       "    }\n",
       "\n",
       "    .dataframe thead th {\n",
       "        text-align: right;\n",
       "    }\n",
       "</style>\n",
       "<table border=\"1\" class=\"dataframe\">\n",
       "  <thead>\n",
       "    <tr style=\"text-align: right;\">\n",
       "      <th></th>\n",
       "      <th>employee_id</th>\n",
       "      <th>employee_name</th>\n",
       "      <th>employee_dep</th>\n",
       "      <th>salary</th>\n",
       "    </tr>\n",
       "  </thead>\n",
       "  <tbody>\n",
       "    <tr>\n",
       "      <th>0</th>\n",
       "      <td>10001</td>\n",
       "      <td>Sam</td>\n",
       "      <td>Research</td>\n",
       "      <td>45034.88</td>\n",
       "    </tr>\n",
       "    <tr>\n",
       "      <th>1</th>\n",
       "      <td>10002</td>\n",
       "      <td>Max</td>\n",
       "      <td>HR</td>\n",
       "      <td>65343.45</td>\n",
       "    </tr>\n",
       "    <tr>\n",
       "      <th>2</th>\n",
       "      <td>10003</td>\n",
       "      <td>Tony</td>\n",
       "      <td>Marketing</td>\n",
       "      <td>53423.27</td>\n",
       "    </tr>\n",
       "    <tr>\n",
       "      <th>3</th>\n",
       "      <td>10004</td>\n",
       "      <td>Sarah</td>\n",
       "      <td>Sales</td>\n",
       "      <td>76422.34</td>\n",
       "    </tr>\n",
       "    <tr>\n",
       "      <th>4</th>\n",
       "      <td>10005</td>\n",
       "      <td>Tania</td>\n",
       "      <td>Finance</td>\n",
       "      <td>58753.00</td>\n",
       "    </tr>\n",
       "    <tr>\n",
       "      <th>5</th>\n",
       "      <td>10006</td>\n",
       "      <td>David</td>\n",
       "      <td>IT</td>\n",
       "      <td>34323.44</td>\n",
       "    </tr>\n",
       "    <tr>\n",
       "      <th>6</th>\n",
       "      <td>10007</td>\n",
       "      <td>Mark</td>\n",
       "      <td>HR</td>\n",
       "      <td>66544.60</td>\n",
       "    </tr>\n",
       "    <tr>\n",
       "      <th>7</th>\n",
       "      <td>10008</td>\n",
       "      <td>Alice</td>\n",
       "      <td>Marketing</td>\n",
       "      <td>34354.66</td>\n",
       "    </tr>\n",
       "    <tr>\n",
       "      <th>8</th>\n",
       "      <td>10009</td>\n",
       "      <td>Charles</td>\n",
       "      <td>IT</td>\n",
       "      <td>55234.96</td>\n",
       "    </tr>\n",
       "    <tr>\n",
       "      <th>9</th>\n",
       "      <td>10010</td>\n",
       "      <td>Bob</td>\n",
       "      <td>Finance</td>\n",
       "      <td>39078.60</td>\n",
       "    </tr>\n",
       "    <tr>\n",
       "      <th>10</th>\n",
       "      <td>10011</td>\n",
       "      <td>Anaa</td>\n",
       "      <td>Sales</td>\n",
       "      <td>44567.88</td>\n",
       "    </tr>\n",
       "  </tbody>\n",
       "</table>\n",
       "</div>"
      ],
      "text/plain": [
       "    employee_id employee_name employee_dep    salary\n",
       "0         10001           Sam     Research  45034.88\n",
       "1         10002           Max           HR  65343.45\n",
       "2         10003          Tony    Marketing  53423.27\n",
       "3         10004         Sarah        Sales  76422.34\n",
       "4         10005         Tania      Finance  58753.00\n",
       "5         10006         David           IT  34323.44\n",
       "6         10007          Mark           HR  66544.60\n",
       "7         10008         Alice    Marketing  34354.66\n",
       "8         10009       Charles           IT  55234.96\n",
       "9         10010           Bob      Finance  39078.60\n",
       "10        10011          Anaa        Sales  44567.88"
      ]
     },
     "execution_count": 13,
     "metadata": {},
     "output_type": "execute_result"
    }
   ],
   "source": [
    "df = df.iloc[:,np.r_[2,0:2,3]]\n",
    "df"
   ]
  },
  {
   "cell_type": "code",
   "execution_count": 14,
   "id": "174e680e-283f-4d71-98d7-3b0c5b32088b",
   "metadata": {},
   "outputs": [
    {
     "data": {
      "text/plain": [
       "array([2, 0, 1, 3])"
      ]
     },
     "execution_count": 14,
     "metadata": {},
     "output_type": "execute_result"
    }
   ],
   "source": [
    "np.r_[2,0:2,3] # Return an array of listed values"
   ]
  },
  {
   "cell_type": "markdown",
   "id": "6f672361-35ba-4d0f-922c-fb4781cb3f67",
   "metadata": {},
   "source": [
    "## Getting data in and out\n",
    "* Reading/ writing from/to a CSV file\n",
    "* Reading/writing from/to an excel file"
   ]
  },
  {
   "cell_type": "code",
   "execution_count": 15,
   "id": "7594c2b9-dbd4-4846-b8c3-5bdbb4560a5d",
   "metadata": {},
   "outputs": [],
   "source": [
    "# Write to a csv file\n",
    "df.to_csv('emp_rec.csv')"
   ]
  },
  {
   "cell_type": "code",
   "execution_count": 16,
   "id": "4c1b24aa-51c1-4ae0-a7b5-a9fd756d705d",
   "metadata": {},
   "outputs": [
    {
     "name": "stdout",
     "output_type": "stream",
     "text": [
      " Volume in drive D is New Volume\n",
      " Volume Serial Number is 1455-07FD\n",
      "\n",
      " Directory of D:\\Studies\\Kingston University\\MSc Data Science\\Modules\\Applied Data Programming\\pythonCodes\n",
      "\n",
      "30/11/2024  10:13    <DIR>          .\n",
      "30/11/2024  08:57    <DIR>          ..\n",
      "30/11/2024  09:20    <DIR>          .ipynb_checkpoints\n",
      "19/10/2024  09:54                80 addin.py\n",
      "19/10/2024  11:16             1,602 add_list_item.ipynb\n",
      "30/11/2024  10:13            32,735 advanceEDA.ipynb\n",
      "03/11/2024  16:32               303 arr1.csv\n",
      "03/11/2024  16:32               303 arr1.txt\n",
      "03/11/2024  16:32               224 arr_2d.npy\n",
      "03/11/2024  16:31    <DIR>          byLecturer\n",
      "19/10/2024  15:30       102,889,431 covid_data.csv\n",
      "03/11/2024  16:32             3,908 data.npy\n",
      "19/11/2024  19:20           511,845 DataVisualizations.ipynb\n",
      "19/10/2024  11:22            11,950 Day3.ipynb\n",
      "30/11/2024  10:15               372 emp_rec.csv\n",
      "19/10/2024  09:59                54 excall.py\n",
      "23/11/2024  12:30           199,633 exploratoryDataAnalysis.ipynb\n",
      "19/10/2024  10:20             1,015 fibnmod.ipynb\n",
      "05/10/2024  13:10             3,389 first.ipynb\n",
      "03/11/2024  16:33            70,477 Math&Stat.ipynb\n",
      "03/11/2024  16:28            44,634 Maths&stat.ipynb\n",
      "05/10/2024  10:28                93 my1.py\n",
      "05/10/2024  11:18               299 my2.py\n",
      "30/11/2024  09:58               372 m_rec.csv\n",
      "23/11/2024  10:53                93 out_df1.csv\n",
      "23/11/2024  10:56                93 out_df1.txt\n",
      "19/11/2024  19:19            27,574 samplePlot1.png\n",
      "19/10/2024  09:08            29,942 SequenceDataTypes.ipynb\n",
      "19/11/2024  20:47            15,392 series-and-dataframe.width-1200.png\n",
      "02/11/2024  10:42    <DIR>          temp\n",
      "19/10/2024  09:56    <DIR>          __pycache__\n",
      "              25 File(s)    103,845,813 bytes\n",
      "               6 Dir(s)  352,703,418,368 bytes free\n"
     ]
    }
   ],
   "source": [
    "# Bash or cmd command for lisitng files in a directory\n",
    "!dir"
   ]
  },
  {
   "cell_type": "code",
   "execution_count": 17,
   "id": "b39723f3-4571-44b9-bf9c-778a40641f11",
   "metadata": {},
   "outputs": [
    {
     "name": "stdout",
     "output_type": "stream",
     "text": [
      ",employee_id,employee_name,employee_dep,salary\n",
      "0,10001,Sam,Research,45034.88\n",
      "1,10002,Max,HR,65343.45\n",
      "2,10003,Tony,Marketing,53423.27\n",
      "3,10004,Sarah,Sales,76422.34\n",
      "4,10005,Tania,Finance,58753.0\n",
      "5,10006,David,IT,34323.44\n",
      "6,10007,Mark,HR,66544.6\n",
      "7,10008,Alice,Marketing,34354.66\n",
      "8,10009,Charles,IT,55234.96\n",
      "9,10010,Bob,Finance,39078.6\n",
      "10,10011,Anaa,Sales,44567.88\n"
     ]
    }
   ],
   "source": [
    "!type emp_rec.csv\n",
    "# cat command in MAC"
   ]
  },
  {
   "cell_type": "code",
   "execution_count": 18,
   "id": "02e36001-9d1c-4218-8df0-31c2c725985a",
   "metadata": {},
   "outputs": [
    {
     "name": "stdout",
     "output_type": "stream",
     "text": [
      "0,10001,Sam,Research,45034.88\n",
      "1,10002,Max,HR,65343.45\n",
      "2,10003,Tony,Marketing,53423.27\n",
      "4,10005,Tania,Finance,58753.0\n",
      "5,10006,David,IT,34323.44\n",
      "6,10007,Mark,HR,66544.6\n",
      "7,10008,Alice,Marketing,34354.66\n",
      "8,10009,Charles,IT,55234.96\n",
      "10,10011,Anaa,Sales,44567.88\n"
     ]
    }
   ],
   "source": [
    "!type emp_rec.csv | findstr [5]"
   ]
  },
  {
   "cell_type": "code",
   "execution_count": 19,
   "id": "490371b0-d28f-4b39-9755-b6e8f35219dc",
   "metadata": {},
   "outputs": [
    {
     "name": "stdout",
     "output_type": "stream",
     "text": [
      "5,10006,David,IT,34323.44\n"
     ]
    }
   ],
   "source": [
    "!type emp_rec.csv | findstr \"Dav\""
   ]
  },
  {
   "cell_type": "markdown",
   "id": "9e9fb315-20e9-4951-9a36-952494d0c488",
   "metadata": {},
   "source": [
    "## Reading writing from/to an excel file"
   ]
  },
  {
   "cell_type": "code",
   "execution_count": 20,
   "id": "c1fd7acf-189c-47aa-b166-632ede6f274b",
   "metadata": {},
   "outputs": [
    {
     "name": "stdout",
     "output_type": "stream",
     "text": [
      "Requirement already satisfied: openPyXL in c:\\users\\aerok\\appdata\\local\\programs\\python\\python311\\lib\\site-packages (3.1.5)\n",
      "Requirement already satisfied: et-xmlfile in c:\\users\\aerok\\appdata\\local\\programs\\python\\python311\\lib\\site-packages (from openPyXL) (2.0.0)\n",
      "Note: you may need to restart the kernel to use updated packages.\n"
     ]
    }
   ],
   "source": [
    "pip install openPyXL"
   ]
  },
  {
   "cell_type": "code",
   "execution_count": 23,
   "id": "8f09ecee-bf60-4bfe-ba50-89619c531ea0",
   "metadata": {},
   "outputs": [],
   "source": [
    "df.to_excel('output.xlsx', index=False)"
   ]
  },
  {
   "cell_type": "code",
   "execution_count": 25,
   "id": "5eb971b3-2f4a-4d86-b1fc-2ebfeb9ba00a",
   "metadata": {},
   "outputs": [
    {
     "data": {
      "text/html": [
       "<div>\n",
       "<style scoped>\n",
       "    .dataframe tbody tr th:only-of-type {\n",
       "        vertical-align: middle;\n",
       "    }\n",
       "\n",
       "    .dataframe tbody tr th {\n",
       "        vertical-align: top;\n",
       "    }\n",
       "\n",
       "    .dataframe thead th {\n",
       "        text-align: right;\n",
       "    }\n",
       "</style>\n",
       "<table border=\"1\" class=\"dataframe\">\n",
       "  <thead>\n",
       "    <tr style=\"text-align: right;\">\n",
       "      <th></th>\n",
       "      <th>employee_id</th>\n",
       "      <th>employee_name</th>\n",
       "      <th>employee_dep</th>\n",
       "      <th>salary</th>\n",
       "    </tr>\n",
       "  </thead>\n",
       "  <tbody>\n",
       "    <tr>\n",
       "      <th>0</th>\n",
       "      <td>10001</td>\n",
       "      <td>Sam</td>\n",
       "      <td>Research</td>\n",
       "      <td>45034.88</td>\n",
       "    </tr>\n",
       "    <tr>\n",
       "      <th>1</th>\n",
       "      <td>10002</td>\n",
       "      <td>Max</td>\n",
       "      <td>HR</td>\n",
       "      <td>65343.45</td>\n",
       "    </tr>\n",
       "    <tr>\n",
       "      <th>2</th>\n",
       "      <td>10003</td>\n",
       "      <td>Tony</td>\n",
       "      <td>Marketing</td>\n",
       "      <td>53423.27</td>\n",
       "    </tr>\n",
       "    <tr>\n",
       "      <th>3</th>\n",
       "      <td>10004</td>\n",
       "      <td>Sarah</td>\n",
       "      <td>Sales</td>\n",
       "      <td>76422.34</td>\n",
       "    </tr>\n",
       "    <tr>\n",
       "      <th>4</th>\n",
       "      <td>10005</td>\n",
       "      <td>Tania</td>\n",
       "      <td>Finance</td>\n",
       "      <td>58753.00</td>\n",
       "    </tr>\n",
       "    <tr>\n",
       "      <th>5</th>\n",
       "      <td>10006</td>\n",
       "      <td>David</td>\n",
       "      <td>IT</td>\n",
       "      <td>34323.44</td>\n",
       "    </tr>\n",
       "    <tr>\n",
       "      <th>6</th>\n",
       "      <td>10007</td>\n",
       "      <td>Mark</td>\n",
       "      <td>HR</td>\n",
       "      <td>66544.60</td>\n",
       "    </tr>\n",
       "    <tr>\n",
       "      <th>7</th>\n",
       "      <td>10008</td>\n",
       "      <td>Alice</td>\n",
       "      <td>Marketing</td>\n",
       "      <td>34354.66</td>\n",
       "    </tr>\n",
       "    <tr>\n",
       "      <th>8</th>\n",
       "      <td>10009</td>\n",
       "      <td>Charles</td>\n",
       "      <td>IT</td>\n",
       "      <td>55234.96</td>\n",
       "    </tr>\n",
       "    <tr>\n",
       "      <th>9</th>\n",
       "      <td>10010</td>\n",
       "      <td>Bob</td>\n",
       "      <td>Finance</td>\n",
       "      <td>39078.60</td>\n",
       "    </tr>\n",
       "    <tr>\n",
       "      <th>10</th>\n",
       "      <td>10011</td>\n",
       "      <td>Anaa</td>\n",
       "      <td>Sales</td>\n",
       "      <td>44567.88</td>\n",
       "    </tr>\n",
       "  </tbody>\n",
       "</table>\n",
       "</div>"
      ],
      "text/plain": [
       "    employee_id employee_name employee_dep    salary\n",
       "0         10001           Sam     Research  45034.88\n",
       "1         10002           Max           HR  65343.45\n",
       "2         10003          Tony    Marketing  53423.27\n",
       "3         10004         Sarah        Sales  76422.34\n",
       "4         10005         Tania      Finance  58753.00\n",
       "5         10006         David           IT  34323.44\n",
       "6         10007          Mark           HR  66544.60\n",
       "7         10008         Alice    Marketing  34354.66\n",
       "8         10009       Charles           IT  55234.96\n",
       "9         10010           Bob      Finance  39078.60\n",
       "10        10011          Anaa        Sales  44567.88"
      ]
     },
     "execution_count": 25,
     "metadata": {},
     "output_type": "execute_result"
    }
   ],
   "source": [
    "dfexcel=pnd.read_excel('output.xlsx')\n",
    "dfexcel"
   ]
  },
  {
   "cell_type": "code",
   "execution_count": 28,
   "id": "43296ae5-6e15-4772-bd28-7aea5025393f",
   "metadata": {},
   "outputs": [
    {
     "data": {
      "text/plain": [
       "5"
      ]
     },
     "execution_count": 28,
     "metadata": {},
     "output_type": "execute_result"
    }
   ],
   "source": [
    "df['salary'].idxmin()"
   ]
  },
  {
   "cell_type": "markdown",
   "id": "28d9d3b1-b832-46e6-a3d4-29a0d5c11a95",
   "metadata": {},
   "source": [
    "## Descriptive statistics\n",
    "most of the following functions in the discussion are aggregation functions (hence producing lower dimensional results) like sum(), mean(), std(), quantile(). However some of them cumsum(), and cumprod() produce an object of the size. Generally these methods take and existing axis arguments, just like 'ndarray.{sum,std ... etc}' so the axis will be specified by using name or integer. \n",
    "* Series no axis argument needed\n",
    "* dataframe: \"Index\" axis = 0 default, \"Column\" axis = 1"
   ]
  },
  {
   "cell_type": "code",
   "execution_count": 30,
   "id": "e482d2b6-bc8d-438a-939d-85d2ed2397d5",
   "metadata": {},
   "outputs": [
    {
     "data": {
      "text/html": [
       "<div>\n",
       "<style scoped>\n",
       "    .dataframe tbody tr th:only-of-type {\n",
       "        vertical-align: middle;\n",
       "    }\n",
       "\n",
       "    .dataframe tbody tr th {\n",
       "        vertical-align: top;\n",
       "    }\n",
       "\n",
       "    .dataframe thead th {\n",
       "        text-align: right;\n",
       "    }\n",
       "</style>\n",
       "<table border=\"1\" class=\"dataframe\">\n",
       "  <thead>\n",
       "    <tr style=\"text-align: right;\">\n",
       "      <th></th>\n",
       "      <th>Employee_Name</th>\n",
       "      <th>Employee_Dep</th>\n",
       "      <th>Employee_ID</th>\n",
       "      <th>Employee_Salary</th>\n",
       "    </tr>\n",
       "  </thead>\n",
       "  <tbody>\n",
       "    <tr>\n",
       "      <th>0</th>\n",
       "      <td>Sam</td>\n",
       "      <td>Research</td>\n",
       "      <td>10001</td>\n",
       "      <td>45034.88</td>\n",
       "    </tr>\n",
       "    <tr>\n",
       "      <th>1</th>\n",
       "      <td>Max</td>\n",
       "      <td>HR</td>\n",
       "      <td>10002</td>\n",
       "      <td>65343.45</td>\n",
       "    </tr>\n",
       "    <tr>\n",
       "      <th>2</th>\n",
       "      <td>Tony</td>\n",
       "      <td>Marketing</td>\n",
       "      <td>10003</td>\n",
       "      <td>53423.27</td>\n",
       "    </tr>\n",
       "    <tr>\n",
       "      <th>3</th>\n",
       "      <td>Sarah</td>\n",
       "      <td>Sales</td>\n",
       "      <td>10004</td>\n",
       "      <td>76422.34</td>\n",
       "    </tr>\n",
       "    <tr>\n",
       "      <th>4</th>\n",
       "      <td>Tania</td>\n",
       "      <td>Finance</td>\n",
       "      <td>10005</td>\n",
       "      <td>58753.00</td>\n",
       "    </tr>\n",
       "    <tr>\n",
       "      <th>5</th>\n",
       "      <td>David</td>\n",
       "      <td>IT</td>\n",
       "      <td>10006</td>\n",
       "      <td>34323.44</td>\n",
       "    </tr>\n",
       "    <tr>\n",
       "      <th>6</th>\n",
       "      <td>Mark</td>\n",
       "      <td>HR</td>\n",
       "      <td>10007</td>\n",
       "      <td>66544.60</td>\n",
       "    </tr>\n",
       "    <tr>\n",
       "      <th>7</th>\n",
       "      <td>Alice</td>\n",
       "      <td>Marketing</td>\n",
       "      <td>10008</td>\n",
       "      <td>34354.66</td>\n",
       "    </tr>\n",
       "    <tr>\n",
       "      <th>8</th>\n",
       "      <td>Charles</td>\n",
       "      <td>IT</td>\n",
       "      <td>10009</td>\n",
       "      <td>55234.96</td>\n",
       "    </tr>\n",
       "    <tr>\n",
       "      <th>9</th>\n",
       "      <td>Bob</td>\n",
       "      <td>Finance</td>\n",
       "      <td>10010</td>\n",
       "      <td>39078.60</td>\n",
       "    </tr>\n",
       "    <tr>\n",
       "      <th>10</th>\n",
       "      <td>Anaa</td>\n",
       "      <td>Sales</td>\n",
       "      <td>10011</td>\n",
       "      <td>44567.88</td>\n",
       "    </tr>\n",
       "  </tbody>\n",
       "</table>\n",
       "</div>"
      ],
      "text/plain": [
       "   Employee_Name Employee_Dep  Employee_ID  Employee_Salary\n",
       "0            Sam     Research        10001         45034.88\n",
       "1            Max           HR        10002         65343.45\n",
       "2           Tony    Marketing        10003         53423.27\n",
       "3          Sarah        Sales        10004         76422.34\n",
       "4          Tania      Finance        10005         58753.00\n",
       "5          David           IT        10006         34323.44\n",
       "6           Mark           HR        10007         66544.60\n",
       "7          Alice    Marketing        10008         34354.66\n",
       "8        Charles           IT        10009         55234.96\n",
       "9            Bob      Finance        10010         39078.60\n",
       "10          Anaa        Sales        10011         44567.88"
      ]
     },
     "execution_count": 30,
     "metadata": {},
     "output_type": "execute_result"
    }
   ],
   "source": [
    "dfemp_rec"
   ]
  },
  {
   "cell_type": "code",
   "execution_count": 33,
   "id": "6ec5b0a5-5e31-4c15-97b8-d0a76495f72e",
   "metadata": {},
   "outputs": [],
   "source": [
    "df_ex1 = pnd.DataFrame({\n",
    "    \"one\":pnd.Series(np.random.rand(3),index=['a','b','c']),\n",
    "    \"two\":pnd.Series(np.random.rand(4),index=['a','b','c','d']),\n",
    "    \"three\":pnd.Series(np.random.rand(3),index=['a','b','d']),\n",
    "})"
   ]
  },
  {
   "cell_type": "code",
   "execution_count": 34,
   "id": "19d05d3c-af6c-42b3-9e89-6f61a550ca19",
   "metadata": {},
   "outputs": [
    {
     "data": {
      "text/html": [
       "<div>\n",
       "<style scoped>\n",
       "    .dataframe tbody tr th:only-of-type {\n",
       "        vertical-align: middle;\n",
       "    }\n",
       "\n",
       "    .dataframe tbody tr th {\n",
       "        vertical-align: top;\n",
       "    }\n",
       "\n",
       "    .dataframe thead th {\n",
       "        text-align: right;\n",
       "    }\n",
       "</style>\n",
       "<table border=\"1\" class=\"dataframe\">\n",
       "  <thead>\n",
       "    <tr style=\"text-align: right;\">\n",
       "      <th></th>\n",
       "      <th>one</th>\n",
       "      <th>two</th>\n",
       "      <th>three</th>\n",
       "    </tr>\n",
       "  </thead>\n",
       "  <tbody>\n",
       "    <tr>\n",
       "      <th>a</th>\n",
       "      <td>0.336749</td>\n",
       "      <td>0.516281</td>\n",
       "      <td>0.836791</td>\n",
       "    </tr>\n",
       "    <tr>\n",
       "      <th>b</th>\n",
       "      <td>0.813935</td>\n",
       "      <td>0.080538</td>\n",
       "      <td>0.020629</td>\n",
       "    </tr>\n",
       "    <tr>\n",
       "      <th>c</th>\n",
       "      <td>0.580012</td>\n",
       "      <td>0.615503</td>\n",
       "      <td>NaN</td>\n",
       "    </tr>\n",
       "    <tr>\n",
       "      <th>d</th>\n",
       "      <td>NaN</td>\n",
       "      <td>0.771117</td>\n",
       "      <td>0.958780</td>\n",
       "    </tr>\n",
       "  </tbody>\n",
       "</table>\n",
       "</div>"
      ],
      "text/plain": [
       "        one       two     three\n",
       "a  0.336749  0.516281  0.836791\n",
       "b  0.813935  0.080538  0.020629\n",
       "c  0.580012  0.615503       NaN\n",
       "d       NaN  0.771117  0.958780"
      ]
     },
     "execution_count": 34,
     "metadata": {},
     "output_type": "execute_result"
    }
   ],
   "source": [
    "df_ex1"
   ]
  },
  {
   "cell_type": "markdown",
   "id": "076389d1-696a-4637-bffc-9d5d20e538d4",
   "metadata": {},
   "source": []
  },
  {
   "cell_type": "code",
   "execution_count": 40,
   "id": "a8c36a4a-960d-4b44-abb2-7cf3c9dfed93",
   "metadata": {},
   "outputs": [
    {
     "data": {
      "text/plain": [
       "one      3\n",
       "two      4\n",
       "three    3\n",
       "dtype: int64"
      ]
     },
     "execution_count": 40,
     "metadata": {},
     "output_type": "execute_result"
    }
   ],
   "source": [
    "# Obtain counts of elements\n",
    "df_ex1.count()"
   ]
  },
  {
   "cell_type": "code",
   "execution_count": 44,
   "id": "46a14e3b-8dcc-44a8-bcc3-06b65c48175f",
   "metadata": {},
   "outputs": [
    {
     "data": {
      "text/plain": [
       "a    3\n",
       "b    3\n",
       "c    2\n",
       "d    2\n",
       "dtype: int64"
      ]
     },
     "execution_count": 44,
     "metadata": {},
     "output_type": "execute_result"
    }
   ],
   "source": [
    "df_ex1.count(axis=1) # count of non null elements row wise"
   ]
  },
  {
   "cell_type": "code",
   "execution_count": 46,
   "id": "d3778e3b-dc24-459f-ba8a-de532422f595",
   "metadata": {},
   "outputs": [
    {
     "data": {
      "text/plain": [
       "one      0.576899\n",
       "two      0.495859\n",
       "three    0.605400\n",
       "dtype: float64"
      ]
     },
     "execution_count": 46,
     "metadata": {},
     "output_type": "execute_result"
    }
   ],
   "source": [
    "# Mean of each columns\n",
    "df_ex1.mean() # Return a series object"
   ]
  },
  {
   "cell_type": "code",
   "execution_count": 48,
   "id": "8dd89404-5389-4bbd-b194-b98b3b0db4c6",
   "metadata": {},
   "outputs": [
    {
     "data": {
      "text/plain": [
       "a    0.563273\n",
       "b    0.305034\n",
       "c    0.597758\n",
       "d    0.864948\n",
       "dtype: float64"
      ]
     },
     "execution_count": 48,
     "metadata": {},
     "output_type": "execute_result"
    }
   ],
   "source": [
    "# Mean of each row\n",
    "df_ex1.mean(axis=1) # Return a series object"
   ]
  },
  {
   "cell_type": "code",
   "execution_count": 49,
   "id": "2010a4ad-b995-41b6-ba75-f257396ac57b",
   "metadata": {},
   "outputs": [
    {
     "data": {
      "text/plain": [
       "one           NaN\n",
       "two      0.495859\n",
       "three         NaN\n",
       "dtype: float64"
      ]
     },
     "execution_count": 49,
     "metadata": {},
     "output_type": "execute_result"
    }
   ],
   "source": [
    "# If Nan available mean is not to be calculated\n",
    "df_ex1.mean(skipna=False)"
   ]
  },
  {
   "cell_type": "code",
   "execution_count": 51,
   "id": "a4d15711-214a-4f04-84dc-deed403aa43d",
   "metadata": {},
   "outputs": [
    {
     "data": {
      "text/plain": [
       "a    0.563273\n",
       "b    0.305034\n",
       "c         NaN\n",
       "d         NaN\n",
       "dtype: float64"
      ]
     },
     "execution_count": 51,
     "metadata": {},
     "output_type": "execute_result"
    }
   ],
   "source": [
    "df_ex1.mean(axis=1,skipna=False)"
   ]
  },
  {
   "cell_type": "code",
   "execution_count": 52,
   "id": "1a81b6c0-9490-40f2-88d5-bca003ddf794",
   "metadata": {},
   "outputs": [
    {
     "data": {
      "text/plain": [
       "np.float64(0.495859440527265)"
      ]
     },
     "execution_count": 52,
     "metadata": {},
     "output_type": "execute_result"
    }
   ],
   "source": [
    "df_ex1['two'].mean()"
   ]
  },
  {
   "cell_type": "code",
   "execution_count": 62,
   "id": "1b707ecd-a3fe-4c07-a85f-be0e0199a799",
   "metadata": {},
   "outputs": [
    {
     "data": {
      "text/plain": [
       "array([0.51628057, 0.08053757, 0.61550258, 0.77111703])"
      ]
     },
     "execution_count": 62,
     "metadata": {},
     "output_type": "execute_result"
    }
   ],
   "source": [
    "# Export a column to a numpy array\n",
    "x2=df_ex1['two'].to_numpy()\n",
    "x2"
   ]
  },
  {
   "cell_type": "code",
   "execution_count": 67,
   "id": "e012aaaa-3790-4224-9197-d27fe491ebd4",
   "metadata": {},
   "outputs": [
    {
     "data": {
      "text/plain": [
       "np.float64(0.6155025835279364)"
      ]
     },
     "execution_count": 67,
     "metadata": {},
     "output_type": "execute_result"
    }
   ],
   "source": [
    "x2[2]"
   ]
  },
  {
   "cell_type": "code",
   "execution_count": 69,
   "id": "609f322d-27d8-48eb-9148-327f8d10c1df",
   "metadata": {},
   "outputs": [
    {
     "data": {
      "text/plain": [
       "one      a\n",
       "two      b\n",
       "three    b\n",
       "dtype: object"
      ]
     },
     "execution_count": 69,
     "metadata": {},
     "output_type": "execute_result"
    }
   ],
   "source": [
    "df_ex1.idxmin()"
   ]
  },
  {
   "cell_type": "code",
   "execution_count": 71,
   "id": "c9e08430-cedd-4857-95d5-4330017bac6f",
   "metadata": {},
   "outputs": [
    {
     "data": {
      "text/plain": [
       "a    three\n",
       "b      one\n",
       "c      two\n",
       "d    three\n",
       "dtype: object"
      ]
     },
     "execution_count": 71,
     "metadata": {},
     "output_type": "execute_result"
    }
   ],
   "source": [
    "df_ex1.idxmax(1)"
   ]
  },
  {
   "cell_type": "code",
   "execution_count": 75,
   "id": "78b88bfd-a154-42be-8ba0-317d69d0bc5f",
   "metadata": {},
   "outputs": [
    {
     "data": {
      "text/html": [
       "<div>\n",
       "<style scoped>\n",
       "    .dataframe tbody tr th:only-of-type {\n",
       "        vertical-align: middle;\n",
       "    }\n",
       "\n",
       "    .dataframe tbody tr th {\n",
       "        vertical-align: top;\n",
       "    }\n",
       "\n",
       "    .dataframe thead th {\n",
       "        text-align: right;\n",
       "    }\n",
       "</style>\n",
       "<table border=\"1\" class=\"dataframe\">\n",
       "  <thead>\n",
       "    <tr style=\"text-align: right;\">\n",
       "      <th></th>\n",
       "      <th>A</th>\n",
       "      <th>B</th>\n",
       "      <th>C</th>\n",
       "    </tr>\n",
       "  </thead>\n",
       "  <tbody>\n",
       "    <tr>\n",
       "      <th>0</th>\n",
       "      <td>0.976535</td>\n",
       "      <td>0.743212</td>\n",
       "      <td>0.544625</td>\n",
       "    </tr>\n",
       "    <tr>\n",
       "      <th>1</th>\n",
       "      <td>0.979811</td>\n",
       "      <td>0.443869</td>\n",
       "      <td>0.541056</td>\n",
       "    </tr>\n",
       "    <tr>\n",
       "      <th>2</th>\n",
       "      <td>0.721450</td>\n",
       "      <td>0.012552</td>\n",
       "      <td>0.349768</td>\n",
       "    </tr>\n",
       "    <tr>\n",
       "      <th>3</th>\n",
       "      <td>0.680519</td>\n",
       "      <td>0.967770</td>\n",
       "      <td>0.963430</td>\n",
       "    </tr>\n",
       "    <tr>\n",
       "      <th>4</th>\n",
       "      <td>0.741574</td>\n",
       "      <td>0.877564</td>\n",
       "      <td>0.738746</td>\n",
       "    </tr>\n",
       "  </tbody>\n",
       "</table>\n",
       "</div>"
      ],
      "text/plain": [
       "          A         B         C\n",
       "0  0.976535  0.743212  0.544625\n",
       "1  0.979811  0.443869  0.541056\n",
       "2  0.721450  0.012552  0.349768\n",
       "3  0.680519  0.967770  0.963430\n",
       "4  0.741574  0.877564  0.738746"
      ]
     },
     "execution_count": 75,
     "metadata": {},
     "output_type": "execute_result"
    }
   ],
   "source": [
    "df_ex2 = pnd.DataFrame(np.random.rand(5,3), columns=['A','B','C'])\n",
    "df_ex2"
   ]
  },
  {
   "cell_type": "code",
   "execution_count": 76,
   "id": "21cc3dfa-59a8-46be-a0c9-802fda641903",
   "metadata": {},
   "outputs": [
    {
     "data": {
      "text/plain": [
       "A    3\n",
       "B    2\n",
       "C    2\n",
       "dtype: int64"
      ]
     },
     "execution_count": 76,
     "metadata": {},
     "output_type": "execute_result"
    }
   ],
   "source": [
    "df_ex2.idxmin()"
   ]
  },
  {
   "cell_type": "code",
   "execution_count": 79,
   "id": "749a681a-2f92-4883-b1fb-2e53edfdc179",
   "metadata": {},
   "outputs": [],
   "source": [
    "data1 = np.array([6,5,4,7,6,2,1,8,7,9,2,4,5,8,\n",
    "                 9,4,5,8,7,3,2,4,6,2,2,4,5,5,\n",
    "                1,4,6,7,8,3,2,6,4,3,8,9,6,4,4])"
   ]
  },
  {
   "cell_type": "code",
   "execution_count": 81,
   "id": "ef24ae18-8591-4ba8-a0d3-7f43b45b7cce",
   "metadata": {},
   "outputs": [
    {
     "data": {
      "text/plain": [
       "array([6, 5, 4, 7, 6, 2, 1, 8, 7, 9, 2, 4, 5, 8, 9, 4, 5, 8, 7, 3, 2, 4,\n",
       "       6, 2, 2, 4, 5, 5, 1, 4, 6, 7, 8, 3, 2, 6, 4, 3, 8, 9, 6, 4, 4])"
      ]
     },
     "execution_count": 81,
     "metadata": {},
     "output_type": "execute_result"
    }
   ],
   "source": [
    "data1"
   ]
  },
  {
   "cell_type": "code",
   "execution_count": 83,
   "id": "532b5233-bfdf-404e-a183-3a695fd2cb88",
   "metadata": {},
   "outputs": [
    {
     "data": {
      "text/plain": [
       "0     6\n",
       "1     5\n",
       "2     4\n",
       "3     7\n",
       "4     6\n",
       "5     2\n",
       "6     1\n",
       "7     8\n",
       "8     7\n",
       "9     9\n",
       "10    2\n",
       "11    4\n",
       "12    5\n",
       "13    8\n",
       "14    9\n",
       "15    4\n",
       "16    5\n",
       "17    8\n",
       "18    7\n",
       "19    3\n",
       "20    2\n",
       "21    4\n",
       "22    6\n",
       "23    2\n",
       "24    2\n",
       "25    4\n",
       "26    5\n",
       "27    5\n",
       "28    1\n",
       "29    4\n",
       "30    6\n",
       "31    7\n",
       "32    8\n",
       "33    3\n",
       "34    2\n",
       "35    6\n",
       "36    4\n",
       "37    3\n",
       "38    8\n",
       "39    9\n",
       "40    6\n",
       "41    4\n",
       "42    4\n",
       "dtype: int64"
      ]
     },
     "execution_count": 83,
     "metadata": {},
     "output_type": "execute_result"
    }
   ],
   "source": [
    "s1 = pnd.Series(data1)\n",
    "s1"
   ]
  },
  {
   "cell_type": "code",
   "execution_count": 85,
   "id": "2c882d0a-ad47-4d56-9e6f-15f003ca43bb",
   "metadata": {},
   "outputs": [
    {
     "data": {
      "text/plain": [
       "4    9\n",
       "6    6\n",
       "2    6\n",
       "5    5\n",
       "8    5\n",
       "7    4\n",
       "9    3\n",
       "3    3\n",
       "1    2\n",
       "Name: count, dtype: int64"
      ]
     },
     "execution_count": 85,
     "metadata": {},
     "output_type": "execute_result"
    }
   ],
   "source": [
    "s1.value_counts() # The freequencies of each element of data"
   ]
  },
  {
   "cell_type": "code",
   "execution_count": 86,
   "id": "c704b6f7-73a3-46f7-bc95-8f89643c410c",
   "metadata": {},
   "outputs": [
    {
     "data": {
      "text/plain": [
       "np.float64(5.0)"
      ]
     },
     "execution_count": 86,
     "metadata": {},
     "output_type": "execute_result"
    }
   ],
   "source": [
    "s1.median()"
   ]
  },
  {
   "cell_type": "code",
   "execution_count": 87,
   "id": "21d59f18-c75c-4cb1-bcf8-a4d75e72cfc4",
   "metadata": {},
   "outputs": [
    {
     "data": {
      "text/plain": [
       "0    4\n",
       "dtype: int64"
      ]
     },
     "execution_count": 87,
     "metadata": {},
     "output_type": "execute_result"
    }
   ],
   "source": [
    "s1.mode()"
   ]
  },
  {
   "cell_type": "markdown",
   "id": "e9e292b7-1931-4aee-9260-6c17f2ba9bbd",
   "metadata": {},
   "source": [
    "## Correlation coefficient"
   ]
  },
  {
   "cell_type": "code",
   "execution_count": 89,
   "id": "5e80984c-abe9-42a2-918c-43066ff0dc28",
   "metadata": {},
   "outputs": [
    {
     "data": {
      "text/html": [
       "<div>\n",
       "<style scoped>\n",
       "    .dataframe tbody tr th:only-of-type {\n",
       "        vertical-align: middle;\n",
       "    }\n",
       "\n",
       "    .dataframe tbody tr th {\n",
       "        vertical-align: top;\n",
       "    }\n",
       "\n",
       "    .dataframe thead th {\n",
       "        text-align: right;\n",
       "    }\n",
       "</style>\n",
       "<table border=\"1\" class=\"dataframe\">\n",
       "  <thead>\n",
       "    <tr style=\"text-align: right;\">\n",
       "      <th></th>\n",
       "      <th>A</th>\n",
       "      <th>B</th>\n",
       "      <th>C</th>\n",
       "    </tr>\n",
       "  </thead>\n",
       "  <tbody>\n",
       "    <tr>\n",
       "      <th>A</th>\n",
       "      <td>1.000000</td>\n",
       "      <td>-0.078111</td>\n",
       "      <td>-0.404375</td>\n",
       "    </tr>\n",
       "    <tr>\n",
       "      <th>B</th>\n",
       "      <td>-0.078111</td>\n",
       "      <td>1.000000</td>\n",
       "      <td>0.883861</td>\n",
       "    </tr>\n",
       "    <tr>\n",
       "      <th>C</th>\n",
       "      <td>-0.404375</td>\n",
       "      <td>0.883861</td>\n",
       "      <td>1.000000</td>\n",
       "    </tr>\n",
       "  </tbody>\n",
       "</table>\n",
       "</div>"
      ],
      "text/plain": [
       "          A         B         C\n",
       "A  1.000000 -0.078111 -0.404375\n",
       "B -0.078111  1.000000  0.883861\n",
       "C -0.404375  0.883861  1.000000"
      ]
     },
     "execution_count": 89,
     "metadata": {},
     "output_type": "execute_result"
    }
   ],
   "source": [
    "# correlation coeffiecient with respective to each other\n",
    "df_ex2.corr()"
   ]
  },
  {
   "cell_type": "code",
   "execution_count": 90,
   "id": "42ad4108-21d6-4d6a-b6d6-f070d2ef207a",
   "metadata": {},
   "outputs": [
    {
     "data": {
      "text/html": [
       "<div>\n",
       "<style scoped>\n",
       "    .dataframe tbody tr th:only-of-type {\n",
       "        vertical-align: middle;\n",
       "    }\n",
       "\n",
       "    .dataframe tbody tr th {\n",
       "        vertical-align: top;\n",
       "    }\n",
       "\n",
       "    .dataframe thead th {\n",
       "        text-align: right;\n",
       "    }\n",
       "</style>\n",
       "<table border=\"1\" class=\"dataframe\">\n",
       "  <thead>\n",
       "    <tr style=\"text-align: right;\">\n",
       "      <th></th>\n",
       "      <th>A</th>\n",
       "      <th>B</th>\n",
       "      <th>C</th>\n",
       "    </tr>\n",
       "  </thead>\n",
       "  <tbody>\n",
       "    <tr>\n",
       "      <th>0</th>\n",
       "      <td>4.0</td>\n",
       "      <td>3.0</td>\n",
       "      <td>3.0</td>\n",
       "    </tr>\n",
       "    <tr>\n",
       "      <th>1</th>\n",
       "      <td>5.0</td>\n",
       "      <td>2.0</td>\n",
       "      <td>2.0</td>\n",
       "    </tr>\n",
       "    <tr>\n",
       "      <th>2</th>\n",
       "      <td>2.0</td>\n",
       "      <td>1.0</td>\n",
       "      <td>1.0</td>\n",
       "    </tr>\n",
       "    <tr>\n",
       "      <th>3</th>\n",
       "      <td>1.0</td>\n",
       "      <td>5.0</td>\n",
       "      <td>5.0</td>\n",
       "    </tr>\n",
       "    <tr>\n",
       "      <th>4</th>\n",
       "      <td>3.0</td>\n",
       "      <td>4.0</td>\n",
       "      <td>4.0</td>\n",
       "    </tr>\n",
       "  </tbody>\n",
       "</table>\n",
       "</div>"
      ],
      "text/plain": [
       "     A    B    C\n",
       "0  4.0  3.0  3.0\n",
       "1  5.0  2.0  2.0\n",
       "2  2.0  1.0  1.0\n",
       "3  1.0  5.0  5.0\n",
       "4  3.0  4.0  4.0"
      ]
     },
     "execution_count": 90,
     "metadata": {},
     "output_type": "execute_result"
    }
   ],
   "source": [
    "# Rank the data item in each column \n",
    "df_ex2.rank()"
   ]
  },
  {
   "cell_type": "code",
   "execution_count": 92,
   "id": "763b718d-9bc7-4a3a-b833-e9a88a28389b",
   "metadata": {},
   "outputs": [
    {
     "data": {
      "text/html": [
       "<div>\n",
       "<style scoped>\n",
       "    .dataframe tbody tr th:only-of-type {\n",
       "        vertical-align: middle;\n",
       "    }\n",
       "\n",
       "    .dataframe tbody tr th {\n",
       "        vertical-align: top;\n",
       "    }\n",
       "\n",
       "    .dataframe thead th {\n",
       "        text-align: right;\n",
       "    }\n",
       "</style>\n",
       "<table border=\"1\" class=\"dataframe\">\n",
       "  <thead>\n",
       "    <tr style=\"text-align: right;\">\n",
       "      <th></th>\n",
       "      <th>B</th>\n",
       "      <th>C</th>\n",
       "    </tr>\n",
       "  </thead>\n",
       "  <tbody>\n",
       "    <tr>\n",
       "      <th>0</th>\n",
       "      <td>3.0</td>\n",
       "      <td>3.0</td>\n",
       "    </tr>\n",
       "    <tr>\n",
       "      <th>1</th>\n",
       "      <td>2.0</td>\n",
       "      <td>2.0</td>\n",
       "    </tr>\n",
       "    <tr>\n",
       "      <th>2</th>\n",
       "      <td>1.0</td>\n",
       "      <td>1.0</td>\n",
       "    </tr>\n",
       "    <tr>\n",
       "      <th>3</th>\n",
       "      <td>5.0</td>\n",
       "      <td>5.0</td>\n",
       "    </tr>\n",
       "    <tr>\n",
       "      <th>4</th>\n",
       "      <td>4.0</td>\n",
       "      <td>4.0</td>\n",
       "    </tr>\n",
       "  </tbody>\n",
       "</table>\n",
       "</div>"
      ],
      "text/plain": [
       "     B    C\n",
       "0  3.0  3.0\n",
       "1  2.0  2.0\n",
       "2  1.0  1.0\n",
       "3  5.0  5.0\n",
       "4  4.0  4.0"
      ]
     },
     "execution_count": 92,
     "metadata": {},
     "output_type": "execute_result"
    }
   ],
   "source": [
    "df_ex2[['B','C']].rank()"
   ]
  },
  {
   "cell_type": "code",
   "execution_count": 94,
   "id": "6bd8dcb5-872f-4b17-bca3-5a6ea15381c0",
   "metadata": {},
   "outputs": [],
   "source": [
    "import matplotlib.pyplot as plt"
   ]
  },
  {
   "cell_type": "code",
   "execution_count": 97,
   "id": "812447fb-e1cd-4eba-af1d-136d12863157",
   "metadata": {},
   "outputs": [
    {
     "data": {
      "text/plain": [
       "[<matplotlib.lines.Line2D at 0x2810732bad0>]"
      ]
     },
     "execution_count": 97,
     "metadata": {},
     "output_type": "execute_result"
    },
    {
     "data": {
      "image/png": "[encoded data removed]",
      "text/plain": [
       "<Figure size 640x480 with 1 Axes>"
      ]
     },
     "metadata": {},
     "output_type": "display_data"
    }
   ],
   "source": [
    "plt.plot(df_ex2['B'],df_ex2['C'])"
   ]
  },
  {
   "cell_type": "code",
   "execution_count": 100,
   "id": "2f0d195e-e21c-4d8a-86ae-99c966c6480e",
   "metadata": {},
   "outputs": [
    {
     "data": {
      "text/plain": [
       "[<matplotlib.lines.Line2D at 0x2810756a090>]"
      ]
     },
     "execution_count": 100,
     "metadata": {},
     "output_type": "execute_result"
    },
    {
     "data": {
      "image/png": "[encoded data removed]",
      "text/plain": [
       "<Figure size 640x480 with 1 Axes>"
      ]
     },
     "metadata": {},
     "output_type": "display_data"
    }
   ],
   "source": [
    "plt.plot(df_ex2['A'])\n"
   ]
  },
  {
   "cell_type": "code",
   "execution_count": 101,
   "id": "b2b3bf69-06a6-435e-8810-c42012bd2b11",
   "metadata": {},
   "outputs": [
    {
     "data": {
      "image/png": "[encoded data removed]",
      "text/plain": [
       "<Figure size 640x480 with 1 Axes>"
      ]
     },
     "metadata": {},
     "output_type": "display_data"
    }
   ],
   "source": [
    "plt.plot(df_ex2['A'], label=\"A\")\n",
    "plt.plot(df_ex2['B'], label=\"B\")\n",
    "plt.plot(df_ex2['C'], label=\"C\")\n",
    "plt.legend()\n",
    "plt.show()"
   ]
  },
  {
   "cell_type": "markdown",
   "id": "231f2b1a-ca96-4de3-aec6-410bd5b036ac",
   "metadata": {},
   "source": [
    "## Inspecting programming enivironment"
   ]
  },
  {
   "cell_type": "code",
   "execution_count": 103,
   "id": "443000aa-e13d-4f14-803e-8713009e06b6",
   "metadata": {},
   "outputs": [],
   "source": [
    "# Versions of the pandas library"
   ]
  },
  {
   "cell_type": "code",
   "execution_count": 106,
   "id": "efcf236f-3aa4-4a30-8cf6-128297fdf89a",
   "metadata": {},
   "outputs": [
    {
     "name": "stdout",
     "output_type": "stream",
     "text": [
      "2.2.3\n"
     ]
    }
   ],
   "source": [
    "print(pnd.__version__)"
   ]
  },
  {
   "cell_type": "code",
   "execution_count": 108,
   "id": "2630c94a-bee0-4866-8739-9ecc18cab2dd",
   "metadata": {},
   "outputs": [
    {
     "name": "stdout",
     "output_type": "stream",
     "text": [
      "\n",
      "INSTALLED VERSIONS\n",
      "------------------\n",
      "commit                : 0691c5cf90477d3503834d983f69350f250a6ff7\n",
      "python                : 3.11.9\n",
      "python-bits           : 64\n",
      "OS                    : Windows\n",
      "OS-release            : 10\n",
      "Version               : 10.0.22631\n",
      "machine               : AMD64\n",
      "processor             : Intel64 Family 6 Model 142 Stepping 12, GenuineIntel\n",
      "byteorder             : little\n",
      "LC_ALL                : None\n",
      "LANG                  : None\n",
      "LOCALE                : English_United Kingdom.1252\n",
      "\n",
      "pandas                : 2.2.3\n",
      "numpy                 : 2.1.2\n",
      "pytz                  : 2024.2\n",
      "dateutil              : 2.9.0.post0\n",
      "pip                   : 24.3.1\n",
      "Cython                : None\n",
      "sphinx                : None\n",
      "IPython               : 8.28.0\n",
      "adbc-driver-postgresql: None\n",
      "adbc-driver-sqlite    : None\n",
      "bs4                   : 4.12.3\n",
      "blosc                 : None\n",
      "bottleneck            : None\n",
      "dataframe-api-compat  : None\n",
      "fastparquet           : None\n",
      "fsspec                : None\n",
      "html5lib              : None\n",
      "hypothesis            : None\n",
      "gcsfs                 : None\n",
      "jinja2                : 3.1.4\n",
      "lxml.etree            : None\n",
      "matplotlib            : 3.9.2\n",
      "numba                 : None\n",
      "numexpr               : None\n",
      "odfpy                 : None\n",
      "openpyxl              : 3.1.5\n",
      "pandas_gbq            : None\n",
      "psycopg2              : None\n",
      "pymysql               : None\n",
      "pyarrow               : None\n",
      "pyreadstat            : None\n",
      "pytest                : None\n",
      "python-calamine       : None\n",
      "pyxlsb                : None\n",
      "s3fs                  : None\n",
      "scipy                 : 1.14.1\n",
      "sqlalchemy            : None\n",
      "tables                : None\n",
      "tabulate              : None\n",
      "xarray                : None\n",
      "xlrd                  : None\n",
      "xlsxwriter            : None\n",
      "zstandard             : None\n",
      "tzdata                : 2024.2\n",
      "qtpy                  : None\n",
      "pyqt5                 : None\n"
     ]
    }
   ],
   "source": [
    "# Obtain all enviroment versions\n",
    "pnd.show_versions()"
   ]
  },
  {
   "cell_type": "code",
   "execution_count": 111,
   "id": "c9901e05-e5e6-4c7a-9433-9fb4ad5681ff",
   "metadata": {},
   "outputs": [
    {
     "data": {
      "text/plain": [
       "50"
      ]
     },
     "execution_count": 111,
     "metadata": {},
     "output_type": "execute_result"
    }
   ],
   "source": [
    "# How many maximum columns can be displayed in output\n",
    "pnd.options.display.max_colwidth"
   ]
  },
  {
   "cell_type": "code",
   "execution_count": 112,
   "id": "8f18c6f8-6ef8-405c-9a8a-d86398be8c0e",
   "metadata": {},
   "outputs": [
    {
     "data": {
      "text/plain": [
       "60"
      ]
     },
     "execution_count": 112,
     "metadata": {},
     "output_type": "execute_result"
    }
   ],
   "source": [
    "# How many maximum rows can be displayed in the output\n",
    "pnd.options.display.max_rows"
   ]
  },
  {
   "cell_type": "code",
   "execution_count": 115,
   "id": "f5a6181b-6cfe-4f05-a988-99a4d2d72833",
   "metadata": {},
   "outputs": [
    {
     "data": {
      "text/plain": [
       "60"
      ]
     },
     "execution_count": 115,
     "metadata": {},
     "output_type": "execute_result"
    }
   ],
   "source": [
    "pnd.get_option(\"display.max_rows\")"
   ]
  },
  {
   "cell_type": "code",
   "execution_count": 116,
   "id": "26a15e26-9ec2-4f46-af23-7f41888344d4",
   "metadata": {},
   "outputs": [],
   "source": [
    "# Setup display options for pandas \n",
    "pnd.set_option(\"display.max_colwidth\",150)"
   ]
  },
  {
   "cell_type": "code",
   "execution_count": 117,
   "id": "ac668b05-6b29-450a-aa0f-7636b94dce8d",
   "metadata": {},
   "outputs": [
    {
     "data": {
      "text/plain": [
       "150"
      ]
     },
     "execution_count": 117,
     "metadata": {},
     "output_type": "execute_result"
    }
   ],
   "source": [
    "pnd.get_option(\"display.max_colwidth\")"
   ]
  },
  {
   "cell_type": "code",
   "execution_count": 120,
   "id": "32b8708a-3c01-4034-93ee-066031ba2f39",
   "metadata": {},
   "outputs": [
    {
     "name": "stderr",
     "output_type": "stream",
     "text": [
      "C:\\Users\\aerok\\AppData\\Local\\Temp\\ipykernel_6008\\3247268933.py:2: FutureWarning: data_manager option is deprecated and will be removed in a future version. Only the BlockManager will be available.\n",
      "  pnd.reset_option(\"all\")\n",
      "C:\\Users\\aerok\\AppData\\Local\\Temp\\ipykernel_6008\\3247268933.py:2: FutureWarning: use_inf_as_na option is deprecated and will be removed in a future version. Convert inf values to NaN before operating instead.\n",
      "  pnd.reset_option(\"all\")\n"
     ]
    }
   ],
   "source": [
    "# Reset all pandas options to default\n",
    "pnd.reset_option(\"all\")"
   ]
  },
  {
   "cell_type": "code",
   "execution_count": 121,
   "id": "877aa4fb-f500-4606-917b-18d92215e645",
   "metadata": {},
   "outputs": [],
   "source": [
    "df_miss = pnd.DataFrame({\n",
    "    'employee_name': ['Sam', 'Max', 'Tony', 'Sarah', 'Tania', 'David', 'Mark','Alice', 'Charles', 'Bob', 'Anna', np.nan, 'Tania'],\n",
    "        'employee_dept': ['Research',np.nan,'Marketing','Sales', 'Finance', 'IT', 'HR', 'Marketing', 'IT', np.nan,'Sales', np.nan, 'Finance'],\n",
    "        'employee_id' : [10001, 10002, np.nan, 10004, 10005, 10006, np.nan, 10008, 10009, 10010, 10011, np.nan, 10005],\n",
    "        'employee_salary'     : [np.nan, 65343.45, 53423.27, np.nan, 58753.00, 34323.44, 66544.60, np.nan, 55234.96, 39078.60, 44567.88, np.nan, 58753.0 ]\n",
    "})"
   ]
  },
  {
   "cell_type": "code",
   "execution_count": 122,
   "id": "cef2aa38-7234-4cf7-8ed8-dad57d4e70fc",
   "metadata": {},
   "outputs": [
    {
     "data": {
      "text/html": [
       "<div>\n",
       "<style scoped>\n",
       "    .dataframe tbody tr th:only-of-type {\n",
       "        vertical-align: middle;\n",
       "    }\n",
       "\n",
       "    .dataframe tbody tr th {\n",
       "        vertical-align: top;\n",
       "    }\n",
       "\n",
       "    .dataframe thead th {\n",
       "        text-align: right;\n",
       "    }\n",
       "</style>\n",
       "<table border=\"1\" class=\"dataframe\">\n",
       "  <thead>\n",
       "    <tr style=\"text-align: right;\">\n",
       "      <th></th>\n",
       "      <th>employee_name</th>\n",
       "      <th>employee_dept</th>\n",
       "      <th>employee_id</th>\n",
       "      <th>employee_salary</th>\n",
       "    </tr>\n",
       "  </thead>\n",
       "  <tbody>\n",
       "    <tr>\n",
       "      <th>0</th>\n",
       "      <td>Sam</td>\n",
       "      <td>Research</td>\n",
       "      <td>10001.0</td>\n",
       "      <td>NaN</td>\n",
       "    </tr>\n",
       "    <tr>\n",
       "      <th>1</th>\n",
       "      <td>Max</td>\n",
       "      <td>NaN</td>\n",
       "      <td>10002.0</td>\n",
       "      <td>65343.45</td>\n",
       "    </tr>\n",
       "    <tr>\n",
       "      <th>2</th>\n",
       "      <td>Tony</td>\n",
       "      <td>Marketing</td>\n",
       "      <td>NaN</td>\n",
       "      <td>53423.27</td>\n",
       "    </tr>\n",
       "    <tr>\n",
       "      <th>3</th>\n",
       "      <td>Sarah</td>\n",
       "      <td>Sales</td>\n",
       "      <td>10004.0</td>\n",
       "      <td>NaN</td>\n",
       "    </tr>\n",
       "    <tr>\n",
       "      <th>4</th>\n",
       "      <td>Tania</td>\n",
       "      <td>Finance</td>\n",
       "      <td>10005.0</td>\n",
       "      <td>58753.00</td>\n",
       "    </tr>\n",
       "    <tr>\n",
       "      <th>5</th>\n",
       "      <td>David</td>\n",
       "      <td>IT</td>\n",
       "      <td>10006.0</td>\n",
       "      <td>34323.44</td>\n",
       "    </tr>\n",
       "    <tr>\n",
       "      <th>6</th>\n",
       "      <td>Mark</td>\n",
       "      <td>HR</td>\n",
       "      <td>NaN</td>\n",
       "      <td>66544.60</td>\n",
       "    </tr>\n",
       "    <tr>\n",
       "      <th>7</th>\n",
       "      <td>Alice</td>\n",
       "      <td>Marketing</td>\n",
       "      <td>10008.0</td>\n",
       "      <td>NaN</td>\n",
       "    </tr>\n",
       "    <tr>\n",
       "      <th>8</th>\n",
       "      <td>Charles</td>\n",
       "      <td>IT</td>\n",
       "      <td>10009.0</td>\n",
       "      <td>55234.96</td>\n",
       "    </tr>\n",
       "    <tr>\n",
       "      <th>9</th>\n",
       "      <td>Bob</td>\n",
       "      <td>NaN</td>\n",
       "      <td>10010.0</td>\n",
       "      <td>39078.60</td>\n",
       "    </tr>\n",
       "    <tr>\n",
       "      <th>10</th>\n",
       "      <td>Anna</td>\n",
       "      <td>Sales</td>\n",
       "      <td>10011.0</td>\n",
       "      <td>44567.88</td>\n",
       "    </tr>\n",
       "    <tr>\n",
       "      <th>11</th>\n",
       "      <td>NaN</td>\n",
       "      <td>NaN</td>\n",
       "      <td>NaN</td>\n",
       "      <td>NaN</td>\n",
       "    </tr>\n",
       "    <tr>\n",
       "      <th>12</th>\n",
       "      <td>Tania</td>\n",
       "      <td>Finance</td>\n",
       "      <td>10005.0</td>\n",
       "      <td>58753.00</td>\n",
       "    </tr>\n",
       "  </tbody>\n",
       "</table>\n",
       "</div>"
      ],
      "text/plain": [
       "   employee_name employee_dept  employee_id  employee_salary\n",
       "0            Sam      Research      10001.0              NaN\n",
       "1            Max           NaN      10002.0         65343.45\n",
       "2           Tony     Marketing          NaN         53423.27\n",
       "3          Sarah         Sales      10004.0              NaN\n",
       "4          Tania       Finance      10005.0         58753.00\n",
       "5          David            IT      10006.0         34323.44\n",
       "6           Mark            HR          NaN         66544.60\n",
       "7          Alice     Marketing      10008.0              NaN\n",
       "8        Charles            IT      10009.0         55234.96\n",
       "9            Bob           NaN      10010.0         39078.60\n",
       "10          Anna         Sales      10011.0         44567.88\n",
       "11           NaN           NaN          NaN              NaN\n",
       "12         Tania       Finance      10005.0         58753.00"
      ]
     },
     "execution_count": 122,
     "metadata": {},
     "output_type": "execute_result"
    }
   ],
   "source": [
    "df_miss"
   ]
  },
  {
   "cell_type": "code",
   "execution_count": 123,
   "id": "1d1adf01-987b-4cd4-9921-f3dbff3f0f29",
   "metadata": {},
   "outputs": [],
   "source": [
    "# Find rows with null vlues"
   ]
  },
  {
   "cell_type": "code",
   "execution_count": 125,
   "id": "1b60f8b7-03a2-4f49-920a-2227ce102e6c",
   "metadata": {},
   "outputs": [
    {
     "data": {
      "text/html": [
       "<div>\n",
       "<style scoped>\n",
       "    .dataframe tbody tr th:only-of-type {\n",
       "        vertical-align: middle;\n",
       "    }\n",
       "\n",
       "    .dataframe tbody tr th {\n",
       "        vertical-align: top;\n",
       "    }\n",
       "\n",
       "    .dataframe thead th {\n",
       "        text-align: right;\n",
       "    }\n",
       "</style>\n",
       "<table border=\"1\" class=\"dataframe\">\n",
       "  <thead>\n",
       "    <tr style=\"text-align: right;\">\n",
       "      <th></th>\n",
       "      <th>employee_name</th>\n",
       "      <th>employee_dept</th>\n",
       "      <th>employee_id</th>\n",
       "      <th>employee_salary</th>\n",
       "    </tr>\n",
       "  </thead>\n",
       "  <tbody>\n",
       "    <tr>\n",
       "      <th>0</th>\n",
       "      <td>Sam</td>\n",
       "      <td>Research</td>\n",
       "      <td>10001.0</td>\n",
       "      <td>NaN</td>\n",
       "    </tr>\n",
       "    <tr>\n",
       "      <th>1</th>\n",
       "      <td>Max</td>\n",
       "      <td>NaN</td>\n",
       "      <td>10002.0</td>\n",
       "      <td>65343.45</td>\n",
       "    </tr>\n",
       "    <tr>\n",
       "      <th>2</th>\n",
       "      <td>Tony</td>\n",
       "      <td>Marketing</td>\n",
       "      <td>NaN</td>\n",
       "      <td>53423.27</td>\n",
       "    </tr>\n",
       "    <tr>\n",
       "      <th>3</th>\n",
       "      <td>Sarah</td>\n",
       "      <td>Sales</td>\n",
       "      <td>10004.0</td>\n",
       "      <td>NaN</td>\n",
       "    </tr>\n",
       "    <tr>\n",
       "      <th>6</th>\n",
       "      <td>Mark</td>\n",
       "      <td>HR</td>\n",
       "      <td>NaN</td>\n",
       "      <td>66544.60</td>\n",
       "    </tr>\n",
       "    <tr>\n",
       "      <th>7</th>\n",
       "      <td>Alice</td>\n",
       "      <td>Marketing</td>\n",
       "      <td>10008.0</td>\n",
       "      <td>NaN</td>\n",
       "    </tr>\n",
       "    <tr>\n",
       "      <th>9</th>\n",
       "      <td>Bob</td>\n",
       "      <td>NaN</td>\n",
       "      <td>10010.0</td>\n",
       "      <td>39078.60</td>\n",
       "    </tr>\n",
       "    <tr>\n",
       "      <th>11</th>\n",
       "      <td>NaN</td>\n",
       "      <td>NaN</td>\n",
       "      <td>NaN</td>\n",
       "      <td>NaN</td>\n",
       "    </tr>\n",
       "  </tbody>\n",
       "</table>\n",
       "</div>"
      ],
      "text/plain": [
       "   employee_name employee_dept  employee_id  employee_salary\n",
       "0            Sam      Research      10001.0              NaN\n",
       "1            Max           NaN      10002.0         65343.45\n",
       "2           Tony     Marketing          NaN         53423.27\n",
       "3          Sarah         Sales      10004.0              NaN\n",
       "6           Mark            HR          NaN         66544.60\n",
       "7          Alice     Marketing      10008.0              NaN\n",
       "9            Bob           NaN      10010.0         39078.60\n",
       "11           NaN           NaN          NaN              NaN"
      ]
     },
     "execution_count": 125,
     "metadata": {},
     "output_type": "execute_result"
    }
   ],
   "source": [
    "df_miss[df_miss.isna().any(axis=1)]"
   ]
  },
  {
   "cell_type": "code",
   "execution_count": 126,
   "id": "2955547e-8ccb-463b-8819-e7aefdb1d6c5",
   "metadata": {},
   "outputs": [
    {
     "data": {
      "text/plain": [
       "0      True\n",
       "1      True\n",
       "2      True\n",
       "3      True\n",
       "4     False\n",
       "5     False\n",
       "6      True\n",
       "7      True\n",
       "8     False\n",
       "9      True\n",
       "10    False\n",
       "11     True\n",
       "12    False\n",
       "dtype: bool"
      ]
     },
     "execution_count": 126,
     "metadata": {},
     "output_type": "execute_result"
    }
   ],
   "source": [
    "df_miss.isna().any(axis=1)"
   ]
  },
  {
   "cell_type": "code",
   "execution_count": 129,
   "id": "f8189004-3b55-4c07-8761-e8a04f58d1af",
   "metadata": {},
   "outputs": [
    {
     "data": {
      "text/html": [
       "<div>\n",
       "<style scoped>\n",
       "    .dataframe tbody tr th:only-of-type {\n",
       "        vertical-align: middle;\n",
       "    }\n",
       "\n",
       "    .dataframe tbody tr th {\n",
       "        vertical-align: top;\n",
       "    }\n",
       "\n",
       "    .dataframe thead th {\n",
       "        text-align: right;\n",
       "    }\n",
       "</style>\n",
       "<table border=\"1\" class=\"dataframe\">\n",
       "  <thead>\n",
       "    <tr style=\"text-align: right;\">\n",
       "      <th></th>\n",
       "      <th>employee_name</th>\n",
       "      <th>employee_dept</th>\n",
       "      <th>employee_id</th>\n",
       "      <th>employee_salary</th>\n",
       "    </tr>\n",
       "  </thead>\n",
       "  <tbody>\n",
       "    <tr>\n",
       "      <th>0</th>\n",
       "      <td>True</td>\n",
       "      <td>True</td>\n",
       "      <td>True</td>\n",
       "      <td>False</td>\n",
       "    </tr>\n",
       "    <tr>\n",
       "      <th>1</th>\n",
       "      <td>True</td>\n",
       "      <td>False</td>\n",
       "      <td>True</td>\n",
       "      <td>True</td>\n",
       "    </tr>\n",
       "    <tr>\n",
       "      <th>2</th>\n",
       "      <td>True</td>\n",
       "      <td>True</td>\n",
       "      <td>False</td>\n",
       "      <td>True</td>\n",
       "    </tr>\n",
       "    <tr>\n",
       "      <th>3</th>\n",
       "      <td>True</td>\n",
       "      <td>True</td>\n",
       "      <td>True</td>\n",
       "      <td>False</td>\n",
       "    </tr>\n",
       "    <tr>\n",
       "      <th>4</th>\n",
       "      <td>True</td>\n",
       "      <td>True</td>\n",
       "      <td>True</td>\n",
       "      <td>True</td>\n",
       "    </tr>\n",
       "    <tr>\n",
       "      <th>5</th>\n",
       "      <td>True</td>\n",
       "      <td>True</td>\n",
       "      <td>True</td>\n",
       "      <td>True</td>\n",
       "    </tr>\n",
       "    <tr>\n",
       "      <th>6</th>\n",
       "      <td>True</td>\n",
       "      <td>True</td>\n",
       "      <td>False</td>\n",
       "      <td>True</td>\n",
       "    </tr>\n",
       "    <tr>\n",
       "      <th>7</th>\n",
       "      <td>True</td>\n",
       "      <td>True</td>\n",
       "      <td>True</td>\n",
       "      <td>False</td>\n",
       "    </tr>\n",
       "    <tr>\n",
       "      <th>8</th>\n",
       "      <td>True</td>\n",
       "      <td>True</td>\n",
       "      <td>True</td>\n",
       "      <td>True</td>\n",
       "    </tr>\n",
       "    <tr>\n",
       "      <th>9</th>\n",
       "      <td>True</td>\n",
       "      <td>False</td>\n",
       "      <td>True</td>\n",
       "      <td>True</td>\n",
       "    </tr>\n",
       "    <tr>\n",
       "      <th>10</th>\n",
       "      <td>True</td>\n",
       "      <td>True</td>\n",
       "      <td>True</td>\n",
       "      <td>True</td>\n",
       "    </tr>\n",
       "    <tr>\n",
       "      <th>11</th>\n",
       "      <td>False</td>\n",
       "      <td>False</td>\n",
       "      <td>False</td>\n",
       "      <td>False</td>\n",
       "    </tr>\n",
       "    <tr>\n",
       "      <th>12</th>\n",
       "      <td>True</td>\n",
       "      <td>True</td>\n",
       "      <td>True</td>\n",
       "      <td>True</td>\n",
       "    </tr>\n",
       "  </tbody>\n",
       "</table>\n",
       "</div>"
      ],
      "text/plain": [
       "    employee_name  employee_dept  employee_id  employee_salary\n",
       "0            True           True         True            False\n",
       "1            True          False         True             True\n",
       "2            True           True        False             True\n",
       "3            True           True         True            False\n",
       "4            True           True         True             True\n",
       "5            True           True         True             True\n",
       "6            True           True        False             True\n",
       "7            True           True         True            False\n",
       "8            True           True         True             True\n",
       "9            True          False         True             True\n",
       "10           True           True         True             True\n",
       "11          False          False        False            False\n",
       "12           True           True         True             True"
      ]
     },
     "execution_count": 129,
     "metadata": {},
     "output_type": "execute_result"
    }
   ],
   "source": [
    "df_miss.notna() # not a null value elements"
   ]
  },
  {
   "cell_type": "code",
   "execution_count": 131,
   "id": "1fe89bd8-d0c1-4bf7-abe6-20c2bfd770ba",
   "metadata": {},
   "outputs": [
    {
     "data": {
      "text/plain": [
       "employee_name      True\n",
       "employee_dept      True\n",
       "employee_id        True\n",
       "employee_salary    True\n",
       "dtype: bool"
      ]
     },
     "execution_count": 131,
     "metadata": {},
     "output_type": "execute_result"
    }
   ],
   "source": [
    "df_miss.isna().any() # Columns with null values"
   ]
  },
  {
   "cell_type": "code",
   "execution_count": 132,
   "id": "93906d89-6320-4b38-a9bb-9c3d1b72344e",
   "metadata": {},
   "outputs": [
    {
     "data": {
      "text/plain": [
       "employee_name      1\n",
       "employee_dept      3\n",
       "employee_id        3\n",
       "employee_salary    4\n",
       "dtype: int64"
      ]
     },
     "execution_count": 132,
     "metadata": {},
     "output_type": "execute_result"
    }
   ],
   "source": [
    "df_miss.isnull().sum(axis=0)"
   ]
  },
  {
   "cell_type": "code",
   "execution_count": 133,
   "id": "45bfd484-17c8-466f-8191-ff7cb0608f18",
   "metadata": {},
   "outputs": [
    {
     "data": {
      "text/html": [
       "<div>\n",
       "<style scoped>\n",
       "    .dataframe tbody tr th:only-of-type {\n",
       "        vertical-align: middle;\n",
       "    }\n",
       "\n",
       "    .dataframe tbody tr th {\n",
       "        vertical-align: top;\n",
       "    }\n",
       "\n",
       "    .dataframe thead th {\n",
       "        text-align: right;\n",
       "    }\n",
       "</style>\n",
       "<table border=\"1\" class=\"dataframe\">\n",
       "  <thead>\n",
       "    <tr style=\"text-align: right;\">\n",
       "      <th></th>\n",
       "      <th>employee_name</th>\n",
       "      <th>employee_dept</th>\n",
       "      <th>employee_id</th>\n",
       "      <th>employee_salary</th>\n",
       "    </tr>\n",
       "  </thead>\n",
       "  <tbody>\n",
       "    <tr>\n",
       "      <th>0</th>\n",
       "      <td>False</td>\n",
       "      <td>False</td>\n",
       "      <td>False</td>\n",
       "      <td>True</td>\n",
       "    </tr>\n",
       "    <tr>\n",
       "      <th>1</th>\n",
       "      <td>False</td>\n",
       "      <td>True</td>\n",
       "      <td>False</td>\n",
       "      <td>False</td>\n",
       "    </tr>\n",
       "    <tr>\n",
       "      <th>2</th>\n",
       "      <td>False</td>\n",
       "      <td>False</td>\n",
       "      <td>True</td>\n",
       "      <td>False</td>\n",
       "    </tr>\n",
       "    <tr>\n",
       "      <th>3</th>\n",
       "      <td>False</td>\n",
       "      <td>False</td>\n",
       "      <td>False</td>\n",
       "      <td>True</td>\n",
       "    </tr>\n",
       "    <tr>\n",
       "      <th>4</th>\n",
       "      <td>False</td>\n",
       "      <td>False</td>\n",
       "      <td>False</td>\n",
       "      <td>False</td>\n",
       "    </tr>\n",
       "    <tr>\n",
       "      <th>5</th>\n",
       "      <td>False</td>\n",
       "      <td>False</td>\n",
       "      <td>False</td>\n",
       "      <td>False</td>\n",
       "    </tr>\n",
       "    <tr>\n",
       "      <th>6</th>\n",
       "      <td>False</td>\n",
       "      <td>False</td>\n",
       "      <td>True</td>\n",
       "      <td>False</td>\n",
       "    </tr>\n",
       "    <tr>\n",
       "      <th>7</th>\n",
       "      <td>False</td>\n",
       "      <td>False</td>\n",
       "      <td>False</td>\n",
       "      <td>True</td>\n",
       "    </tr>\n",
       "    <tr>\n",
       "      <th>8</th>\n",
       "      <td>False</td>\n",
       "      <td>False</td>\n",
       "      <td>False</td>\n",
       "      <td>False</td>\n",
       "    </tr>\n",
       "    <tr>\n",
       "      <th>9</th>\n",
       "      <td>False</td>\n",
       "      <td>True</td>\n",
       "      <td>False</td>\n",
       "      <td>False</td>\n",
       "    </tr>\n",
       "    <tr>\n",
       "      <th>10</th>\n",
       "      <td>False</td>\n",
       "      <td>False</td>\n",
       "      <td>False</td>\n",
       "      <td>False</td>\n",
       "    </tr>\n",
       "    <tr>\n",
       "      <th>11</th>\n",
       "      <td>True</td>\n",
       "      <td>True</td>\n",
       "      <td>True</td>\n",
       "      <td>True</td>\n",
       "    </tr>\n",
       "    <tr>\n",
       "      <th>12</th>\n",
       "      <td>False</td>\n",
       "      <td>False</td>\n",
       "      <td>False</td>\n",
       "      <td>False</td>\n",
       "    </tr>\n",
       "  </tbody>\n",
       "</table>\n",
       "</div>"
      ],
      "text/plain": [
       "    employee_name  employee_dept  employee_id  employee_salary\n",
       "0           False          False        False             True\n",
       "1           False           True        False            False\n",
       "2           False          False         True            False\n",
       "3           False          False        False             True\n",
       "4           False          False        False            False\n",
       "5           False          False        False            False\n",
       "6           False          False         True            False\n",
       "7           False          False        False             True\n",
       "8           False          False        False            False\n",
       "9           False           True        False            False\n",
       "10          False          False        False            False\n",
       "11           True           True         True             True\n",
       "12          False          False        False            False"
      ]
     },
     "execution_count": 133,
     "metadata": {},
     "output_type": "execute_result"
    }
   ],
   "source": [
    "df_miss.isnull()"
   ]
  },
  {
   "cell_type": "code",
   "execution_count": 137,
   "id": "b466a6e9-9eeb-4cbd-ae0f-d66adadcb532",
   "metadata": {},
   "outputs": [
    {
     "data": {
      "text/plain": [
       "0     False\n",
       "1     False\n",
       "2     False\n",
       "3     False\n",
       "4     False\n",
       "5     False\n",
       "6     False\n",
       "7     False\n",
       "8     False\n",
       "9     False\n",
       "10    False\n",
       "11     True\n",
       "12    False\n",
       "Name: employee_name, dtype: bool"
      ]
     },
     "execution_count": 137,
     "metadata": {},
     "output_type": "execute_result"
    }
   ],
   "source": [
    "df_miss['employee_name'].isnull()"
   ]
  },
  {
   "cell_type": "code",
   "execution_count": 139,
   "id": "9198fa20-8793-4ebd-8c21-f801b1a14df6",
   "metadata": {},
   "outputs": [
    {
     "data": {
      "text/html": [
       "<div>\n",
       "<style scoped>\n",
       "    .dataframe tbody tr th:only-of-type {\n",
       "        vertical-align: middle;\n",
       "    }\n",
       "\n",
       "    .dataframe tbody tr th {\n",
       "        vertical-align: top;\n",
       "    }\n",
       "\n",
       "    .dataframe thead th {\n",
       "        text-align: right;\n",
       "    }\n",
       "</style>\n",
       "<table border=\"1\" class=\"dataframe\">\n",
       "  <thead>\n",
       "    <tr style=\"text-align: right;\">\n",
       "      <th></th>\n",
       "      <th>employee_name</th>\n",
       "      <th>employee_dept</th>\n",
       "      <th>employee_id</th>\n",
       "      <th>employee_salary</th>\n",
       "    </tr>\n",
       "  </thead>\n",
       "  <tbody>\n",
       "    <tr>\n",
       "      <th>2</th>\n",
       "      <td>Tony</td>\n",
       "      <td>Marketing</td>\n",
       "      <td>NaN</td>\n",
       "      <td>53423.27</td>\n",
       "    </tr>\n",
       "    <tr>\n",
       "      <th>6</th>\n",
       "      <td>Mark</td>\n",
       "      <td>HR</td>\n",
       "      <td>NaN</td>\n",
       "      <td>66544.60</td>\n",
       "    </tr>\n",
       "    <tr>\n",
       "      <th>11</th>\n",
       "      <td>NaN</td>\n",
       "      <td>NaN</td>\n",
       "      <td>NaN</td>\n",
       "      <td>NaN</td>\n",
       "    </tr>\n",
       "  </tbody>\n",
       "</table>\n",
       "</div>"
      ],
      "text/plain": [
       "   employee_name employee_dept  employee_id  employee_salary\n",
       "2           Tony     Marketing          NaN         53423.27\n",
       "6           Mark            HR          NaN         66544.60\n",
       "11           NaN           NaN          NaN              NaN"
      ]
     },
     "execution_count": 139,
     "metadata": {},
     "output_type": "execute_result"
    }
   ],
   "source": [
    "df_miss[df_miss['employee_id'].isnull()]"
   ]
  },
  {
   "cell_type": "code",
   "execution_count": 144,
   "id": "9b42599d-5790-4548-9b0f-8c2c46e14aa5",
   "metadata": {},
   "outputs": [
    {
     "data": {
      "text/plain": [
       "employee_name           Max\n",
       "employee_dept           NaN\n",
       "employee_id         10002.0\n",
       "employee_salary    65343.45\n",
       "Name: 1, dtype: object"
      ]
     },
     "execution_count": 144,
     "metadata": {},
     "output_type": "execute_result"
    }
   ],
   "source": [
    "x3 = df_miss[df_miss.isna().any(axis=1)].loc[1]\n",
    "x3"
   ]
  },
  {
   "cell_type": "code",
   "execution_count": 145,
   "id": "7ce6d652-0c07-493c-8adc-56728a52ecef",
   "metadata": {},
   "outputs": [
    {
     "data": {
      "text/plain": [
       "pandas.core.series.Series"
      ]
     },
     "execution_count": 145,
     "metadata": {},
     "output_type": "execute_result"
    }
   ],
   "source": [
    "type(x3)"
   ]
  },
  {
   "cell_type": "code",
   "execution_count": 146,
   "id": "4e74e3ee-1327-4bb0-ba99-7f49ab225361",
   "metadata": {},
   "outputs": [
    {
     "data": {
      "text/plain": [
       "employee_name      False\n",
       "employee_dept       True\n",
       "employee_id        False\n",
       "employee_salary    False\n",
       "Name: 1, dtype: bool"
      ]
     },
     "execution_count": 146,
     "metadata": {},
     "output_type": "execute_result"
    }
   ],
   "source": [
    "x3.isna()"
   ]
  },
  {
   "cell_type": "code",
   "execution_count": 147,
   "id": "946d659c-15bd-41a5-bf39-47668b25d714",
   "metadata": {},
   "outputs": [
    {
     "data": {
      "text/plain": [
       "employee_dept    NaN\n",
       "Name: 1, dtype: object"
      ]
     },
     "execution_count": 147,
     "metadata": {},
     "output_type": "execute_result"
    }
   ],
   "source": [
    "x3[x3.isna()]"
   ]
  },
  {
   "cell_type": "code",
   "execution_count": 148,
   "id": "67e8e802-8efe-4b09-87b6-92df54c12a05",
   "metadata": {},
   "outputs": [
    {
     "data": {
      "text/plain": [
       "Index(['employee_name', 'employee_dept', 'employee_id', 'employee_salary'], dtype='object')"
      ]
     },
     "execution_count": 148,
     "metadata": {},
     "output_type": "execute_result"
    }
   ],
   "source": [
    "x3.isna().index"
   ]
  },
  {
   "cell_type": "code",
   "execution_count": 151,
   "id": "af0a7844-9808-4096-b86f-15f52a5650d1",
   "metadata": {},
   "outputs": [],
   "source": [
    "# Insert value to a location\n",
    "df_miss.loc[1,'employee_dept'] = 'Sales'"
   ]
  },
  {
   "cell_type": "code",
   "execution_count": 150,
   "id": "24aacd32-a351-4ed8-88bf-08074648f96f",
   "metadata": {},
   "outputs": [
    {
     "data": {
      "text/html": [
       "<div>\n",
       "<style scoped>\n",
       "    .dataframe tbody tr th:only-of-type {\n",
       "        vertical-align: middle;\n",
       "    }\n",
       "\n",
       "    .dataframe tbody tr th {\n",
       "        vertical-align: top;\n",
       "    }\n",
       "\n",
       "    .dataframe thead th {\n",
       "        text-align: right;\n",
       "    }\n",
       "</style>\n",
       "<table border=\"1\" class=\"dataframe\">\n",
       "  <thead>\n",
       "    <tr style=\"text-align: right;\">\n",
       "      <th></th>\n",
       "      <th>employee_name</th>\n",
       "      <th>employee_dept</th>\n",
       "      <th>employee_id</th>\n",
       "      <th>employee_salary</th>\n",
       "    </tr>\n",
       "  </thead>\n",
       "  <tbody>\n",
       "    <tr>\n",
       "      <th>0</th>\n",
       "      <td>Sam</td>\n",
       "      <td>Research</td>\n",
       "      <td>10001.0</td>\n",
       "      <td>NaN</td>\n",
       "    </tr>\n",
       "    <tr>\n",
       "      <th>1</th>\n",
       "      <td>Max</td>\n",
       "      <td>sales</td>\n",
       "      <td>10002.0</td>\n",
       "      <td>65343.45</td>\n",
       "    </tr>\n",
       "    <tr>\n",
       "      <th>2</th>\n",
       "      <td>Tony</td>\n",
       "      <td>Marketing</td>\n",
       "      <td>NaN</td>\n",
       "      <td>53423.27</td>\n",
       "    </tr>\n",
       "    <tr>\n",
       "      <th>3</th>\n",
       "      <td>Sarah</td>\n",
       "      <td>Sales</td>\n",
       "      <td>10004.0</td>\n",
       "      <td>NaN</td>\n",
       "    </tr>\n",
       "    <tr>\n",
       "      <th>4</th>\n",
       "      <td>Tania</td>\n",
       "      <td>Finance</td>\n",
       "      <td>10005.0</td>\n",
       "      <td>58753.00</td>\n",
       "    </tr>\n",
       "    <tr>\n",
       "      <th>5</th>\n",
       "      <td>David</td>\n",
       "      <td>IT</td>\n",
       "      <td>10006.0</td>\n",
       "      <td>34323.44</td>\n",
       "    </tr>\n",
       "    <tr>\n",
       "      <th>6</th>\n",
       "      <td>Mark</td>\n",
       "      <td>HR</td>\n",
       "      <td>NaN</td>\n",
       "      <td>66544.60</td>\n",
       "    </tr>\n",
       "    <tr>\n",
       "      <th>7</th>\n",
       "      <td>Alice</td>\n",
       "      <td>Marketing</td>\n",
       "      <td>10008.0</td>\n",
       "      <td>NaN</td>\n",
       "    </tr>\n",
       "    <tr>\n",
       "      <th>8</th>\n",
       "      <td>Charles</td>\n",
       "      <td>IT</td>\n",
       "      <td>10009.0</td>\n",
       "      <td>55234.96</td>\n",
       "    </tr>\n",
       "    <tr>\n",
       "      <th>9</th>\n",
       "      <td>Bob</td>\n",
       "      <td>NaN</td>\n",
       "      <td>10010.0</td>\n",
       "      <td>39078.60</td>\n",
       "    </tr>\n",
       "    <tr>\n",
       "      <th>10</th>\n",
       "      <td>Anna</td>\n",
       "      <td>Sales</td>\n",
       "      <td>10011.0</td>\n",
       "      <td>44567.88</td>\n",
       "    </tr>\n",
       "    <tr>\n",
       "      <th>11</th>\n",
       "      <td>NaN</td>\n",
       "      <td>NaN</td>\n",
       "      <td>NaN</td>\n",
       "      <td>NaN</td>\n",
       "    </tr>\n",
       "    <tr>\n",
       "      <th>12</th>\n",
       "      <td>Tania</td>\n",
       "      <td>Finance</td>\n",
       "      <td>10005.0</td>\n",
       "      <td>58753.00</td>\n",
       "    </tr>\n",
       "  </tbody>\n",
       "</table>\n",
       "</div>"
      ],
      "text/plain": [
       "   employee_name employee_dept  employee_id  employee_salary\n",
       "0            Sam      Research      10001.0              NaN\n",
       "1            Max         sales      10002.0         65343.45\n",
       "2           Tony     Marketing          NaN         53423.27\n",
       "3          Sarah         Sales      10004.0              NaN\n",
       "4          Tania       Finance      10005.0         58753.00\n",
       "5          David            IT      10006.0         34323.44\n",
       "6           Mark            HR          NaN         66544.60\n",
       "7          Alice     Marketing      10008.0              NaN\n",
       "8        Charles            IT      10009.0         55234.96\n",
       "9            Bob           NaN      10010.0         39078.60\n",
       "10          Anna         Sales      10011.0         44567.88\n",
       "11           NaN           NaN          NaN              NaN\n",
       "12         Tania       Finance      10005.0         58753.00"
      ]
     },
     "execution_count": 150,
     "metadata": {},
     "output_type": "execute_result"
    }
   ],
   "source": [
    "df_miss"
   ]
  },
  {
   "cell_type": "code",
   "execution_count": 152,
   "id": "2752ffd2-836e-4d69-a982-6828c236f971",
   "metadata": {},
   "outputs": [
    {
     "data": {
      "text/html": [
       "<div>\n",
       "<style scoped>\n",
       "    .dataframe tbody tr th:only-of-type {\n",
       "        vertical-align: middle;\n",
       "    }\n",
       "\n",
       "    .dataframe tbody tr th {\n",
       "        vertical-align: top;\n",
       "    }\n",
       "\n",
       "    .dataframe thead th {\n",
       "        text-align: right;\n",
       "    }\n",
       "</style>\n",
       "<table border=\"1\" class=\"dataframe\">\n",
       "  <thead>\n",
       "    <tr style=\"text-align: right;\">\n",
       "      <th></th>\n",
       "      <th>employee_name</th>\n",
       "      <th>employee_dept</th>\n",
       "      <th>employee_id</th>\n",
       "      <th>employee_salary</th>\n",
       "    </tr>\n",
       "  </thead>\n",
       "  <tbody>\n",
       "    <tr>\n",
       "      <th>1</th>\n",
       "      <td>Max</td>\n",
       "      <td>Sales</td>\n",
       "      <td>10002.0</td>\n",
       "      <td>65343.45</td>\n",
       "    </tr>\n",
       "    <tr>\n",
       "      <th>4</th>\n",
       "      <td>Tania</td>\n",
       "      <td>Finance</td>\n",
       "      <td>10005.0</td>\n",
       "      <td>58753.00</td>\n",
       "    </tr>\n",
       "    <tr>\n",
       "      <th>5</th>\n",
       "      <td>David</td>\n",
       "      <td>IT</td>\n",
       "      <td>10006.0</td>\n",
       "      <td>34323.44</td>\n",
       "    </tr>\n",
       "    <tr>\n",
       "      <th>8</th>\n",
       "      <td>Charles</td>\n",
       "      <td>IT</td>\n",
       "      <td>10009.0</td>\n",
       "      <td>55234.96</td>\n",
       "    </tr>\n",
       "    <tr>\n",
       "      <th>10</th>\n",
       "      <td>Anna</td>\n",
       "      <td>Sales</td>\n",
       "      <td>10011.0</td>\n",
       "      <td>44567.88</td>\n",
       "    </tr>\n",
       "    <tr>\n",
       "      <th>12</th>\n",
       "      <td>Tania</td>\n",
       "      <td>Finance</td>\n",
       "      <td>10005.0</td>\n",
       "      <td>58753.00</td>\n",
       "    </tr>\n",
       "  </tbody>\n",
       "</table>\n",
       "</div>"
      ],
      "text/plain": [
       "   employee_name employee_dept  employee_id  employee_salary\n",
       "1            Max         Sales      10002.0         65343.45\n",
       "4          Tania       Finance      10005.0         58753.00\n",
       "5          David            IT      10006.0         34323.44\n",
       "8        Charles            IT      10009.0         55234.96\n",
       "10          Anna         Sales      10011.0         44567.88\n",
       "12         Tania       Finance      10005.0         58753.00"
      ]
     },
     "execution_count": 152,
     "metadata": {},
     "output_type": "execute_result"
    }
   ],
   "source": [
    "# Dropping all the missing values\n",
    "df_miss.dropna()"
   ]
  },
  {
   "cell_type": "code",
   "execution_count": 153,
   "id": "42eece04-9499-47be-aeb4-15b52dcd5161",
   "metadata": {},
   "outputs": [
    {
     "data": {
      "text/html": [
       "<div>\n",
       "<style scoped>\n",
       "    .dataframe tbody tr th:only-of-type {\n",
       "        vertical-align: middle;\n",
       "    }\n",
       "\n",
       "    .dataframe tbody tr th {\n",
       "        vertical-align: top;\n",
       "    }\n",
       "\n",
       "    .dataframe thead th {\n",
       "        text-align: right;\n",
       "    }\n",
       "</style>\n",
       "<table border=\"1\" class=\"dataframe\">\n",
       "  <thead>\n",
       "    <tr style=\"text-align: right;\">\n",
       "      <th></th>\n",
       "      <th>employee_name</th>\n",
       "      <th>employee_dept</th>\n",
       "      <th>employee_id</th>\n",
       "      <th>employee_salary</th>\n",
       "    </tr>\n",
       "  </thead>\n",
       "  <tbody>\n",
       "    <tr>\n",
       "      <th>0</th>\n",
       "      <td>Sam</td>\n",
       "      <td>Research</td>\n",
       "      <td>10001.0</td>\n",
       "      <td>NaN</td>\n",
       "    </tr>\n",
       "    <tr>\n",
       "      <th>1</th>\n",
       "      <td>Max</td>\n",
       "      <td>Sales</td>\n",
       "      <td>10002.0</td>\n",
       "      <td>65343.45</td>\n",
       "    </tr>\n",
       "    <tr>\n",
       "      <th>2</th>\n",
       "      <td>Tony</td>\n",
       "      <td>Marketing</td>\n",
       "      <td>NaN</td>\n",
       "      <td>53423.27</td>\n",
       "    </tr>\n",
       "    <tr>\n",
       "      <th>3</th>\n",
       "      <td>Sarah</td>\n",
       "      <td>Sales</td>\n",
       "      <td>10004.0</td>\n",
       "      <td>NaN</td>\n",
       "    </tr>\n",
       "    <tr>\n",
       "      <th>4</th>\n",
       "      <td>Tania</td>\n",
       "      <td>Finance</td>\n",
       "      <td>10005.0</td>\n",
       "      <td>58753.00</td>\n",
       "    </tr>\n",
       "    <tr>\n",
       "      <th>5</th>\n",
       "      <td>David</td>\n",
       "      <td>IT</td>\n",
       "      <td>10006.0</td>\n",
       "      <td>34323.44</td>\n",
       "    </tr>\n",
       "    <tr>\n",
       "      <th>6</th>\n",
       "      <td>Mark</td>\n",
       "      <td>HR</td>\n",
       "      <td>NaN</td>\n",
       "      <td>66544.60</td>\n",
       "    </tr>\n",
       "    <tr>\n",
       "      <th>7</th>\n",
       "      <td>Alice</td>\n",
       "      <td>Marketing</td>\n",
       "      <td>10008.0</td>\n",
       "      <td>NaN</td>\n",
       "    </tr>\n",
       "    <tr>\n",
       "      <th>8</th>\n",
       "      <td>Charles</td>\n",
       "      <td>IT</td>\n",
       "      <td>10009.0</td>\n",
       "      <td>55234.96</td>\n",
       "    </tr>\n",
       "    <tr>\n",
       "      <th>9</th>\n",
       "      <td>Bob</td>\n",
       "      <td>NaN</td>\n",
       "      <td>10010.0</td>\n",
       "      <td>39078.60</td>\n",
       "    </tr>\n",
       "    <tr>\n",
       "      <th>10</th>\n",
       "      <td>Anna</td>\n",
       "      <td>Sales</td>\n",
       "      <td>10011.0</td>\n",
       "      <td>44567.88</td>\n",
       "    </tr>\n",
       "    <tr>\n",
       "      <th>12</th>\n",
       "      <td>Tania</td>\n",
       "      <td>Finance</td>\n",
       "      <td>10005.0</td>\n",
       "      <td>58753.00</td>\n",
       "    </tr>\n",
       "  </tbody>\n",
       "</table>\n",
       "</div>"
      ],
      "text/plain": [
       "   employee_name employee_dept  employee_id  employee_salary\n",
       "0            Sam      Research      10001.0              NaN\n",
       "1            Max         Sales      10002.0         65343.45\n",
       "2           Tony     Marketing          NaN         53423.27\n",
       "3          Sarah         Sales      10004.0              NaN\n",
       "4          Tania       Finance      10005.0         58753.00\n",
       "5          David            IT      10006.0         34323.44\n",
       "6           Mark            HR          NaN         66544.60\n",
       "7          Alice     Marketing      10008.0              NaN\n",
       "8        Charles            IT      10009.0         55234.96\n",
       "9            Bob           NaN      10010.0         39078.60\n",
       "10          Anna         Sales      10011.0         44567.88\n",
       "12         Tania       Finance      10005.0         58753.00"
      ]
     },
     "execution_count": 153,
     "metadata": {},
     "output_type": "execute_result"
    }
   ],
   "source": [
    "# Remove records with data unavilable wiht a threshold\n",
    "df_miss.dropna(thresh=2)"
   ]
  },
  {
   "cell_type": "code",
   "execution_count": 154,
   "id": "3ad1d2c9-4669-4e0d-bcd7-ceffb1da184e",
   "metadata": {},
   "outputs": [
    {
     "data": {
      "text/html": [
       "<div>\n",
       "<style scoped>\n",
       "    .dataframe tbody tr th:only-of-type {\n",
       "        vertical-align: middle;\n",
       "    }\n",
       "\n",
       "    .dataframe tbody tr th {\n",
       "        vertical-align: top;\n",
       "    }\n",
       "\n",
       "    .dataframe thead th {\n",
       "        text-align: right;\n",
       "    }\n",
       "</style>\n",
       "<table border=\"1\" class=\"dataframe\">\n",
       "  <thead>\n",
       "    <tr style=\"text-align: right;\">\n",
       "      <th></th>\n",
       "      <th>employee_name</th>\n",
       "      <th>employee_dept</th>\n",
       "      <th>employee_id</th>\n",
       "      <th>employee_salary</th>\n",
       "    </tr>\n",
       "  </thead>\n",
       "  <tbody>\n",
       "    <tr>\n",
       "      <th>1</th>\n",
       "      <td>Max</td>\n",
       "      <td>Sales</td>\n",
       "      <td>10002.0</td>\n",
       "      <td>65343.45</td>\n",
       "    </tr>\n",
       "    <tr>\n",
       "      <th>2</th>\n",
       "      <td>Tony</td>\n",
       "      <td>Marketing</td>\n",
       "      <td>NaN</td>\n",
       "      <td>53423.27</td>\n",
       "    </tr>\n",
       "    <tr>\n",
       "      <th>4</th>\n",
       "      <td>Tania</td>\n",
       "      <td>Finance</td>\n",
       "      <td>10005.0</td>\n",
       "      <td>58753.00</td>\n",
       "    </tr>\n",
       "    <tr>\n",
       "      <th>5</th>\n",
       "      <td>David</td>\n",
       "      <td>IT</td>\n",
       "      <td>10006.0</td>\n",
       "      <td>34323.44</td>\n",
       "    </tr>\n",
       "    <tr>\n",
       "      <th>6</th>\n",
       "      <td>Mark</td>\n",
       "      <td>HR</td>\n",
       "      <td>NaN</td>\n",
       "      <td>66544.60</td>\n",
       "    </tr>\n",
       "    <tr>\n",
       "      <th>8</th>\n",
       "      <td>Charles</td>\n",
       "      <td>IT</td>\n",
       "      <td>10009.0</td>\n",
       "      <td>55234.96</td>\n",
       "    </tr>\n",
       "    <tr>\n",
       "      <th>10</th>\n",
       "      <td>Anna</td>\n",
       "      <td>Sales</td>\n",
       "      <td>10011.0</td>\n",
       "      <td>44567.88</td>\n",
       "    </tr>\n",
       "    <tr>\n",
       "      <th>12</th>\n",
       "      <td>Tania</td>\n",
       "      <td>Finance</td>\n",
       "      <td>10005.0</td>\n",
       "      <td>58753.00</td>\n",
       "    </tr>\n",
       "  </tbody>\n",
       "</table>\n",
       "</div>"
      ],
      "text/plain": [
       "   employee_name employee_dept  employee_id  employee_salary\n",
       "1            Max         Sales      10002.0         65343.45\n",
       "2           Tony     Marketing          NaN         53423.27\n",
       "4          Tania       Finance      10005.0         58753.00\n",
       "5          David            IT      10006.0         34323.44\n",
       "6           Mark            HR          NaN         66544.60\n",
       "8        Charles            IT      10009.0         55234.96\n",
       "10          Anna         Sales      10011.0         44567.88\n",
       "12         Tania       Finance      10005.0         58753.00"
      ]
     },
     "execution_count": 154,
     "metadata": {},
     "output_type": "execute_result"
    }
   ],
   "source": [
    "# based on columns, if values are missing then drop\n",
    "df_miss.dropna(subset=['employee_dept','employee_salary'])"
   ]
  },
  {
   "cell_type": "code",
   "execution_count": 156,
   "id": "ae2e30f1-5204-4991-b543-b320bd6b41c0",
   "metadata": {},
   "outputs": [
    {
     "data": {
      "text/plain": [
       "0      Research\n",
       "1         Sales\n",
       "2     Marketing\n",
       "3         Sales\n",
       "4       Finance\n",
       "5            IT\n",
       "6            HR\n",
       "7     Marketing\n",
       "8            IT\n",
       "9       Finance\n",
       "10        Sales\n",
       "11      Finance\n",
       "12      Finance\n",
       "Name: employee_dept, dtype: object"
      ]
     },
     "execution_count": 156,
     "metadata": {},
     "output_type": "execute_result"
    }
   ],
   "source": [
    "# fill all the missing values of selected columns\n",
    "df_miss['employee_dept'].fillna(value='Finance')"
   ]
  },
  {
   "cell_type": "code",
   "execution_count": 157,
   "id": "e02ad433-0dad-4956-a62a-131de033bd95",
   "metadata": {},
   "outputs": [
    {
     "data": {
      "text/html": [
       "<div>\n",
       "<style scoped>\n",
       "    .dataframe tbody tr th:only-of-type {\n",
       "        vertical-align: middle;\n",
       "    }\n",
       "\n",
       "    .dataframe tbody tr th {\n",
       "        vertical-align: top;\n",
       "    }\n",
       "\n",
       "    .dataframe thead th {\n",
       "        text-align: right;\n",
       "    }\n",
       "</style>\n",
       "<table border=\"1\" class=\"dataframe\">\n",
       "  <thead>\n",
       "    <tr style=\"text-align: right;\">\n",
       "      <th></th>\n",
       "      <th>employee_name</th>\n",
       "      <th>employee_dept</th>\n",
       "      <th>employee_id</th>\n",
       "      <th>employee_salary</th>\n",
       "    </tr>\n",
       "  </thead>\n",
       "  <tbody>\n",
       "    <tr>\n",
       "      <th>12</th>\n",
       "      <td>Tania</td>\n",
       "      <td>Finance</td>\n",
       "      <td>10005.0</td>\n",
       "      <td>58753.0</td>\n",
       "    </tr>\n",
       "  </tbody>\n",
       "</table>\n",
       "</div>"
      ],
      "text/plain": [
       "   employee_name employee_dept  employee_id  employee_salary\n",
       "12         Tania       Finance      10005.0          58753.0"
      ]
     },
     "execution_count": 157,
     "metadata": {},
     "output_type": "execute_result"
    }
   ],
   "source": [
    "# Obtain the duplicated records \n",
    "df_miss[df_miss.duplicated()] # display the duplicate records"
   ]
  },
  {
   "cell_type": "markdown",
   "id": "dd40a6df-ba96-4b9b-9830-12603a849a7e",
   "metadata": {},
   "source": [
    "## Dealing with missing values"
   ]
  },
  {
   "cell_type": "code",
   "execution_count": 161,
   "id": "fc4b7101-f6e5-49eb-9707-2da6b252e7db",
   "metadata": {},
   "outputs": [
    {
     "data": {
      "text/html": [
       "<div>\n",
       "<style scoped>\n",
       "    .dataframe tbody tr th:only-of-type {\n",
       "        vertical-align: middle;\n",
       "    }\n",
       "\n",
       "    .dataframe tbody tr th {\n",
       "        vertical-align: top;\n",
       "    }\n",
       "\n",
       "    .dataframe thead th {\n",
       "        text-align: right;\n",
       "    }\n",
       "</style>\n",
       "<table border=\"1\" class=\"dataframe\">\n",
       "  <thead>\n",
       "    <tr style=\"text-align: right;\">\n",
       "      <th></th>\n",
       "      <th>employee_name</th>\n",
       "      <th>employee_dept</th>\n",
       "      <th>employee_id</th>\n",
       "      <th>employee_salary</th>\n",
       "    </tr>\n",
       "  </thead>\n",
       "  <tbody>\n",
       "    <tr>\n",
       "      <th>0</th>\n",
       "      <td>Bob</td>\n",
       "      <td>IT</td>\n",
       "      <td>inf</td>\n",
       "      <td>39078.6</td>\n",
       "    </tr>\n",
       "  </tbody>\n",
       "</table>\n",
       "</div>"
      ],
      "text/plain": [
       "  employee_name employee_dept  employee_id  employee_salary\n",
       "0           Bob            IT          inf          39078.6"
      ]
     },
     "execution_count": 161,
     "metadata": {},
     "output_type": "execute_result"
    }
   ],
   "source": [
    "df2_miss = pnd.DataFrame([['Bob','IT',np.inf,39078.60]],columns=['employee_name','employee_dept','employee_id','employee_salary'])\n",
    "df2_miss"
   ]
  },
  {
   "cell_type": "code",
   "execution_count": 167,
   "id": "621e4c0a-7f82-45ca-9769-9fe7613bbb67",
   "metadata": {},
   "outputs": [
    {
     "ename": "AttributeError",
     "evalue": "'DataFrame' object has no attribute 'append'",
     "output_type": "error",
     "traceback": [
      "\u001b[1;31m---------------------------------------------------------------------------\u001b[0m",
      "\u001b[1;31mAttributeError\u001b[0m                            Traceback (most recent call last)",
      "\u001b[1;32m~\\AppData\\Local\\Temp\\ipykernel_6008\\2943897800.py\u001b[0m in \u001b[0;36m?\u001b[1;34m()\u001b[0m\n\u001b[1;32m----> 1\u001b[1;33m \u001b[0mdf3_miss\u001b[0m \u001b[1;33m=\u001b[0m \u001b[0mdf2_miss\u001b[0m\u001b[1;33m.\u001b[0m\u001b[0mappend\u001b[0m\u001b[1;33m(\u001b[0m\u001b[0mdf2_miss\u001b[0m\u001b[1;33m,\u001b[0m \u001b[0mignore_index\u001b[0m\u001b[1;33m=\u001b[0m\u001b[1;32mTrue\u001b[0m\u001b[1;33m)\u001b[0m\u001b[1;33m\u001b[0m\u001b[1;33m\u001b[0m\u001b[0m\n\u001b[0m",
      "\u001b[1;32m~\\AppData\\Local\\Programs\\Python\\Python311\\Lib\\site-packages\\pandas\\core\\generic.py\u001b[0m in \u001b[0;36m?\u001b[1;34m(self, name)\u001b[0m\n\u001b[0;32m   6295\u001b[0m             \u001b[1;32mand\u001b[0m \u001b[0mname\u001b[0m \u001b[1;32mnot\u001b[0m \u001b[1;32min\u001b[0m \u001b[0mself\u001b[0m\u001b[1;33m.\u001b[0m\u001b[0m_accessors\u001b[0m\u001b[1;33m\u001b[0m\u001b[1;33m\u001b[0m\u001b[0m\n\u001b[0;32m   6296\u001b[0m             \u001b[1;32mand\u001b[0m \u001b[0mself\u001b[0m\u001b[1;33m.\u001b[0m\u001b[0m_info_axis\u001b[0m\u001b[1;33m.\u001b[0m\u001b[0m_can_hold_identifiers_and_holds_name\u001b[0m\u001b[1;33m(\u001b[0m\u001b[0mname\u001b[0m\u001b[1;33m)\u001b[0m\u001b[1;33m\u001b[0m\u001b[1;33m\u001b[0m\u001b[0m\n\u001b[0;32m   6297\u001b[0m         ):\n\u001b[0;32m   6298\u001b[0m             \u001b[1;32mreturn\u001b[0m \u001b[0mself\u001b[0m\u001b[1;33m[\u001b[0m\u001b[0mname\u001b[0m\u001b[1;33m]\u001b[0m\u001b[1;33m\u001b[0m\u001b[1;33m\u001b[0m\u001b[0m\n\u001b[1;32m-> 6299\u001b[1;33m         \u001b[1;32mreturn\u001b[0m \u001b[0mobject\u001b[0m\u001b[1;33m.\u001b[0m\u001b[0m__getattribute__\u001b[0m\u001b[1;33m(\u001b[0m\u001b[0mself\u001b[0m\u001b[1;33m,\u001b[0m \u001b[0mname\u001b[0m\u001b[1;33m)\u001b[0m\u001b[1;33m\u001b[0m\u001b[1;33m\u001b[0m\u001b[0m\n\u001b[0m",
      "\u001b[1;31mAttributeError\u001b[0m: 'DataFrame' object has no attribute 'append'"
     ]
    }
   ],
   "source": [
    "df3_miss = df2_miss.append(df2_miss, ignore_index=True)"
   ]
  },
  {
   "cell_type": "code",
   "execution_count": 165,
   "id": "09afac1f-2988-4bb3-a2ac-26523abff1df",
   "metadata": {},
   "outputs": [
    {
     "ename": "NameError",
     "evalue": "name 'df3_miss' is not defined",
     "output_type": "error",
     "traceback": [
      "\u001b[1;31m---------------------------------------------------------------------------\u001b[0m",
      "\u001b[1;31mNameError\u001b[0m                                 Traceback (most recent call last)",
      "Cell \u001b[1;32mIn[165], line 1\u001b[0m\n\u001b[1;32m----> 1\u001b[0m \u001b[43mdf3_miss\u001b[49m[df3_miss\u001b[38;5;241m.\u001b[39misna()\u001b[38;5;241m.\u001b[39many(axis\u001b[38;5;241m=\u001b[39m\u001b[38;5;241m1\u001b[39m)]\n",
      "\u001b[1;31mNameError\u001b[0m: name 'df3_miss' is not defined"
     ]
    }
   ],
   "source": [
    "df3_miss[df3_miss.isna().any(axis=1)]"
   ]
  },
  {
   "cell_type": "markdown",
   "id": "24bacbf1-24bc-4911-a5fb-06fe936ced86",
   "metadata": {},
   "source": [
    "## Missing data types"
   ]
  },
  {
   "cell_type": "code",
   "execution_count": 168,
   "id": "3895af26-8801-47e1-9f4b-293afc34bca0",
   "metadata": {},
   "outputs": [
    {
     "data": {
      "text/plain": [
       "0    1.0\n",
       "1    2.0\n",
       "2    NaN\n",
       "3    4.0\n",
       "dtype: float64"
      ]
     },
     "execution_count": 168,
     "metadata": {},
     "output_type": "execute_result"
    }
   ],
   "source": [
    "pnd.Series([1,2,np.nan,4])"
   ]
  },
  {
   "cell_type": "code",
   "execution_count": 172,
   "id": "23de5861-1a60-4138-b311-9639e43bc5c9",
   "metadata": {},
   "outputs": [
    {
     "data": {
      "text/plain": [
       "0       1\n",
       "1       2\n",
       "2    <NA>\n",
       "3       4\n",
       "dtype: Int64"
      ]
     },
     "execution_count": 172,
     "metadata": {},
     "output_type": "execute_result"
    }
   ],
   "source": [
    "# Eplicitly mentioned the dtype in ti int\n",
    "pnd.Series([1,2,np.nan,4],dtype=pnd.Int64Dtype())"
   ]
  },
  {
   "cell_type": "markdown",
   "id": "2e7b0b5a-5cc1-4804-b371-63c3f03a5b83",
   "metadata": {},
   "source": [
    "## Calculation when missing data available"
   ]
  },
  {
   "cell_type": "code",
   "execution_count": 173,
   "id": "382bafe6-988f-4366-956e-68aff7c8c4d8",
   "metadata": {},
   "outputs": [
    {
     "data": {
      "text/plain": [
       "np.float64(476022.2)"
      ]
     },
     "execution_count": 173,
     "metadata": {},
     "output_type": "execute_result"
    }
   ],
   "source": [
    "df_miss['employee_salary'].sum() # 4 are missing"
   ]
  },
  {
   "cell_type": "code",
   "execution_count": 174,
   "id": "02508848-a8c4-440a-8619-0aa62cb34963",
   "metadata": {},
   "outputs": [
    {
     "data": {
      "text/plain": [
       "np.float64(476022.2)"
      ]
     },
     "execution_count": 174,
     "metadata": {},
     "output_type": "execute_result"
    }
   ],
   "source": [
    "df_miss['employee_salary'].mean()*9"
   ]
  },
  {
   "cell_type": "code",
   "execution_count": 175,
   "id": "39f3a409-e894-4559-a417-23b737e52d8b",
   "metadata": {},
   "outputs": [
    {
     "data": {
      "text/plain": [
       "np.int64(4)"
      ]
     },
     "execution_count": 175,
     "metadata": {},
     "output_type": "execute_result"
    }
   ],
   "source": [
    "df_miss['employee_salary'].isna().sum()"
   ]
  },
  {
   "cell_type": "code",
   "execution_count": 177,
   "id": "da744701-e985-47d8-9368-3161d05d5de1",
   "metadata": {},
   "outputs": [
    {
     "data": {
      "text/plain": [
       "np.float64(52891.35555555556)"
      ]
     },
     "execution_count": 177,
     "metadata": {},
     "output_type": "execute_result"
    }
   ],
   "source": [
    "df_miss['employee_salary'].sum()/df_miss['employee_salary'].notna().sum()"
   ]
  },
  {
   "cell_type": "code",
   "execution_count": 179,
   "id": "95bb23f9-3544-4f51-bcf0-fd384d3a78cf",
   "metadata": {},
   "outputs": [
    {
     "data": {
      "text/plain": [
       "0           NaN\n",
       "1      65343.45\n",
       "2     118766.72\n",
       "3           NaN\n",
       "4     177519.72\n",
       "5     211843.16\n",
       "6     278387.76\n",
       "7           NaN\n",
       "8     333622.72\n",
       "9     372701.32\n",
       "10    417269.20\n",
       "11          NaN\n",
       "12    476022.20\n",
       "Name: employee_salary, dtype: float64"
      ]
     },
     "execution_count": 179,
     "metadata": {},
     "output_type": "execute_result"
    }
   ],
   "source": [
    "df_miss['employee_salary'].cumsum()"
   ]
  },
  {
   "cell_type": "code",
   "execution_count": 180,
   "id": "64124607-4b90-454c-950f-ab90eab5fecd",
   "metadata": {},
   "outputs": [
    {
     "data": {
      "text/plain": [
       "1      65343.45\n",
       "2     118766.72\n",
       "4     177519.72\n",
       "5     211843.16\n",
       "6     278387.76\n",
       "8     333622.72\n",
       "9     372701.32\n",
       "10    417269.20\n",
       "12    476022.20\n",
       "Name: employee_salary, dtype: float64"
      ]
     },
     "execution_count": 180,
     "metadata": {},
     "output_type": "execute_result"
    }
   ],
   "source": [
    "df_miss['employee_salary'].cumsum().dropna()"
   ]
  },
  {
   "cell_type": "code",
   "execution_count": 181,
   "id": "dcac13b7-b8d3-4786-ad62-81f0fc4beaf2",
   "metadata": {},
   "outputs": [],
   "source": [
    "df1_data = pnd.DataFrame({'employee_name': ['Sam', 'Max', 'Tony', 'Sarah', 'Tania', 'David', 'Mark','Alice', 'Charles', 'Bob', 'Anna'],\n",
    "        'employee_dept': ['Research','HR','Marketing','Sales', 'Finance', 'IT', 'HR', 'Marketing', 'IT', 'Finance','Sales'],\n",
    "        'employee_id' : [10001, 10002, 10003, 10004, 10005, 10006, 10007, 10008, 10009, 10010, 10011],\n",
    "        'employee_salary' : [45034.88, 65343.45, 53423.27, 76422.34, 58753.00, 34323.44, 66544.60, 34354.66, 55234.96, 39078.60, 44567.88],\n",
    "        'employee_hobby' : ['Traveling','Reading','Sports','Reading', 'Traveling', 'Sports', 'Sports', 'Gardening', 'Sports', 'Traveling','Reading']\n",
    "     })"
   ]
  },
  {
   "cell_type": "code",
   "execution_count": 182,
   "id": "e336071b-0499-4ad4-a87b-d9cca077d608",
   "metadata": {},
   "outputs": [
    {
     "data": {
      "text/html": [
       "<div>\n",
       "<style scoped>\n",
       "    .dataframe tbody tr th:only-of-type {\n",
       "        vertical-align: middle;\n",
       "    }\n",
       "\n",
       "    .dataframe tbody tr th {\n",
       "        vertical-align: top;\n",
       "    }\n",
       "\n",
       "    .dataframe thead th {\n",
       "        text-align: right;\n",
       "    }\n",
       "</style>\n",
       "<table border=\"1\" class=\"dataframe\">\n",
       "  <thead>\n",
       "    <tr style=\"text-align: right;\">\n",
       "      <th></th>\n",
       "      <th>employee_name</th>\n",
       "      <th>employee_dept</th>\n",
       "      <th>employee_id</th>\n",
       "      <th>employee_salary</th>\n",
       "      <th>employee_hobby</th>\n",
       "    </tr>\n",
       "  </thead>\n",
       "  <tbody>\n",
       "    <tr>\n",
       "      <th>0</th>\n",
       "      <td>Sam</td>\n",
       "      <td>Research</td>\n",
       "      <td>10001</td>\n",
       "      <td>45034.88</td>\n",
       "      <td>Traveling</td>\n",
       "    </tr>\n",
       "    <tr>\n",
       "      <th>1</th>\n",
       "      <td>Max</td>\n",
       "      <td>HR</td>\n",
       "      <td>10002</td>\n",
       "      <td>65343.45</td>\n",
       "      <td>Reading</td>\n",
       "    </tr>\n",
       "    <tr>\n",
       "      <th>2</th>\n",
       "      <td>Tony</td>\n",
       "      <td>Marketing</td>\n",
       "      <td>10003</td>\n",
       "      <td>53423.27</td>\n",
       "      <td>Sports</td>\n",
       "    </tr>\n",
       "    <tr>\n",
       "      <th>3</th>\n",
       "      <td>Sarah</td>\n",
       "      <td>Sales</td>\n",
       "      <td>10004</td>\n",
       "      <td>76422.34</td>\n",
       "      <td>Reading</td>\n",
       "    </tr>\n",
       "    <tr>\n",
       "      <th>4</th>\n",
       "      <td>Tania</td>\n",
       "      <td>Finance</td>\n",
       "      <td>10005</td>\n",
       "      <td>58753.00</td>\n",
       "      <td>Traveling</td>\n",
       "    </tr>\n",
       "    <tr>\n",
       "      <th>5</th>\n",
       "      <td>David</td>\n",
       "      <td>IT</td>\n",
       "      <td>10006</td>\n",
       "      <td>34323.44</td>\n",
       "      <td>Sports</td>\n",
       "    </tr>\n",
       "    <tr>\n",
       "      <th>6</th>\n",
       "      <td>Mark</td>\n",
       "      <td>HR</td>\n",
       "      <td>10007</td>\n",
       "      <td>66544.60</td>\n",
       "      <td>Sports</td>\n",
       "    </tr>\n",
       "    <tr>\n",
       "      <th>7</th>\n",
       "      <td>Alice</td>\n",
       "      <td>Marketing</td>\n",
       "      <td>10008</td>\n",
       "      <td>34354.66</td>\n",
       "      <td>Gardening</td>\n",
       "    </tr>\n",
       "    <tr>\n",
       "      <th>8</th>\n",
       "      <td>Charles</td>\n",
       "      <td>IT</td>\n",
       "      <td>10009</td>\n",
       "      <td>55234.96</td>\n",
       "      <td>Sports</td>\n",
       "    </tr>\n",
       "    <tr>\n",
       "      <th>9</th>\n",
       "      <td>Bob</td>\n",
       "      <td>Finance</td>\n",
       "      <td>10010</td>\n",
       "      <td>39078.60</td>\n",
       "      <td>Traveling</td>\n",
       "    </tr>\n",
       "    <tr>\n",
       "      <th>10</th>\n",
       "      <td>Anna</td>\n",
       "      <td>Sales</td>\n",
       "      <td>10011</td>\n",
       "      <td>44567.88</td>\n",
       "      <td>Reading</td>\n",
       "    </tr>\n",
       "  </tbody>\n",
       "</table>\n",
       "</div>"
      ],
      "text/plain": [
       "   employee_name employee_dept  employee_id  employee_salary employee_hobby\n",
       "0            Sam      Research        10001         45034.88      Traveling\n",
       "1            Max            HR        10002         65343.45        Reading\n",
       "2           Tony     Marketing        10003         53423.27         Sports\n",
       "3          Sarah         Sales        10004         76422.34        Reading\n",
       "4          Tania       Finance        10005         58753.00      Traveling\n",
       "5          David            IT        10006         34323.44         Sports\n",
       "6           Mark            HR        10007         66544.60         Sports\n",
       "7          Alice     Marketing        10008         34354.66      Gardening\n",
       "8        Charles            IT        10009         55234.96         Sports\n",
       "9            Bob       Finance        10010         39078.60      Traveling\n",
       "10          Anna         Sales        10011         44567.88        Reading"
      ]
     },
     "execution_count": 182,
     "metadata": {},
     "output_type": "execute_result"
    }
   ],
   "source": [
    "df1_data"
   ]
  },
  {
   "cell_type": "code",
   "execution_count": 185,
   "id": "be05722b-fc89-4dca-814c-c67a0009f0e8",
   "metadata": {},
   "outputs": [],
   "source": [
    "df4_miss= pnd.DataFrame([['Bob','IT',np.inf,39078.60,'Sport']],columns=list(['employee_name','employee_dept','employee_id','employee_salary','employee_hobby']))"
   ]
  },
  {
   "cell_type": "code",
   "execution_count": 186,
   "id": "96b70666-8a38-4193-b1d9-85cde7510390",
   "metadata": {},
   "outputs": [
    {
     "data": {
      "text/html": [
       "<div>\n",
       "<style scoped>\n",
       "    .dataframe tbody tr th:only-of-type {\n",
       "        vertical-align: middle;\n",
       "    }\n",
       "\n",
       "    .dataframe tbody tr th {\n",
       "        vertical-align: top;\n",
       "    }\n",
       "\n",
       "    .dataframe thead th {\n",
       "        text-align: right;\n",
       "    }\n",
       "</style>\n",
       "<table border=\"1\" class=\"dataframe\">\n",
       "  <thead>\n",
       "    <tr style=\"text-align: right;\">\n",
       "      <th></th>\n",
       "      <th>employee_name</th>\n",
       "      <th>employee_dept</th>\n",
       "      <th>employee_id</th>\n",
       "      <th>employee_salary</th>\n",
       "      <th>employee_hobby</th>\n",
       "    </tr>\n",
       "  </thead>\n",
       "  <tbody>\n",
       "    <tr>\n",
       "      <th>0</th>\n",
       "      <td>Bob</td>\n",
       "      <td>IT</td>\n",
       "      <td>inf</td>\n",
       "      <td>39078.6</td>\n",
       "      <td>Sport</td>\n",
       "    </tr>\n",
       "  </tbody>\n",
       "</table>\n",
       "</div>"
      ],
      "text/plain": [
       "  employee_name employee_dept  employee_id  employee_salary employee_hobby\n",
       "0           Bob            IT          inf          39078.6          Sport"
      ]
     },
     "execution_count": 186,
     "metadata": {},
     "output_type": "execute_result"
    }
   ],
   "source": [
    "df4_miss"
   ]
  },
  {
   "cell_type": "code",
   "execution_count": 189,
   "id": "9e2e4fd8-595c-4bce-91cc-1ec92163861a",
   "metadata": {},
   "outputs": [
    {
     "ename": "AttributeError",
     "evalue": "'DataFrame' object has no attribute 'append'",
     "output_type": "error",
     "traceback": [
      "\u001b[1;31m---------------------------------------------------------------------------\u001b[0m",
      "\u001b[1;31mAttributeError\u001b[0m                            Traceback (most recent call last)",
      "\u001b[1;32m~\\AppData\\Local\\Temp\\ipykernel_6008\\2814469315.py\u001b[0m in \u001b[0;36m?\u001b[1;34m()\u001b[0m\n\u001b[1;32m----> 1\u001b[1;33m \u001b[0mD1\u001b[0m \u001b[1;33m=\u001b[0m\u001b[0mdf1_data\u001b[0m\u001b[1;33m.\u001b[0m\u001b[0mappend\u001b[0m\u001b[1;33m(\u001b[0m\u001b[0mdf4_miss\u001b[0m\u001b[1;33m,\u001b[0m\u001b[0mignore_index\u001b[0m\u001b[1;33m=\u001b[0m\u001b[1;32mTrue\u001b[0m\u001b[1;33m)\u001b[0m\u001b[1;33m\u001b[0m\u001b[1;33m\u001b[0m\u001b[0m\n\u001b[0m",
      "\u001b[1;32m~\\AppData\\Local\\Programs\\Python\\Python311\\Lib\\site-packages\\pandas\\core\\generic.py\u001b[0m in \u001b[0;36m?\u001b[1;34m(self, name)\u001b[0m\n\u001b[0;32m   6295\u001b[0m             \u001b[1;32mand\u001b[0m \u001b[0mname\u001b[0m \u001b[1;32mnot\u001b[0m \u001b[1;32min\u001b[0m \u001b[0mself\u001b[0m\u001b[1;33m.\u001b[0m\u001b[0m_accessors\u001b[0m\u001b[1;33m\u001b[0m\u001b[1;33m\u001b[0m\u001b[0m\n\u001b[0;32m   6296\u001b[0m             \u001b[1;32mand\u001b[0m \u001b[0mself\u001b[0m\u001b[1;33m.\u001b[0m\u001b[0m_info_axis\u001b[0m\u001b[1;33m.\u001b[0m\u001b[0m_can_hold_identifiers_and_holds_name\u001b[0m\u001b[1;33m(\u001b[0m\u001b[0mname\u001b[0m\u001b[1;33m)\u001b[0m\u001b[1;33m\u001b[0m\u001b[1;33m\u001b[0m\u001b[0m\n\u001b[0;32m   6297\u001b[0m         ):\n\u001b[0;32m   6298\u001b[0m             \u001b[1;32mreturn\u001b[0m \u001b[0mself\u001b[0m\u001b[1;33m[\u001b[0m\u001b[0mname\u001b[0m\u001b[1;33m]\u001b[0m\u001b[1;33m\u001b[0m\u001b[1;33m\u001b[0m\u001b[0m\n\u001b[1;32m-> 6299\u001b[1;33m         \u001b[1;32mreturn\u001b[0m \u001b[0mobject\u001b[0m\u001b[1;33m.\u001b[0m\u001b[0m__getattribute__\u001b[0m\u001b[1;33m(\u001b[0m\u001b[0mself\u001b[0m\u001b[1;33m,\u001b[0m \u001b[0mname\u001b[0m\u001b[1;33m)\u001b[0m\u001b[1;33m\u001b[0m\u001b[1;33m\u001b[0m\u001b[0m\n\u001b[0m",
      "\u001b[1;31mAttributeError\u001b[0m: 'DataFrame' object has no attribute 'append'"
     ]
    }
   ],
   "source": [
    "D1 =df1_data.append(df4_miss,ignore_index=True)"
   ]
  },
  {
   "cell_type": "code",
   "execution_count": 190,
   "id": "dc66a3f9-3dc2-4e48-9d41-56039e4c0583",
   "metadata": {},
   "outputs": [],
   "source": [
    "from pprint import pprint"
   ]
  },
  {
   "cell_type": "code",
   "execution_count": null,
   "id": "266f427f-9648-4825-83eb-861e809c9128",
   "metadata": {},
   "outputs": [],
   "source": []
  }
 ],
 "metadata": {
  "kernelspec": {
   "display_name": "Python 3 (ipykernel)",
   "language": "python",
   "name": "python3"
  },
  "language_info": {
   "codemirror_mode": {
    "name": "ipython",
    "version": 3
   },
   "file_extension": ".py",
   "mimetype": "text/x-python",
   "name": "python",
   "nbconvert_exporter": "python",
   "pygments_lexer": "ipython3",
   "version": "3.11.9"
  }
 },
 "nbformat": 4,
 "nbformat_minor": 5
}
